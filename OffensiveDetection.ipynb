{
  "nbformat": 4,
  "nbformat_minor": 0,
  "metadata": {
    "colab": {
      "name": "OffensiveDetection.ipynb",
      "provenance": [],
      "authorship_tag": "ABX9TyOuvsuTiAV4K1Xf+i6OAHXD",
      "include_colab_link": true
    },
    "kernelspec": {
      "name": "python3",
      "display_name": "Python 3"
    },
    "language_info": {
      "name": "python"
    }
  },
  "cells": [
    {
      "cell_type": "markdown",
      "metadata": {
        "id": "view-in-github",
        "colab_type": "text"
      },
      "source": [
        "<a href=\"https://colab.research.google.com/github/Blutronics/OffensiveTwitterDetection/blob/main/OffensiveDetection.ipynb\" target=\"_parent\"><img src=\"https://colab.research.google.com/assets/colab-badge.svg\" alt=\"Open In Colab\"/></a>"
      ]
    },
    {
      "cell_type": "code",
      "execution_count": null,
      "metadata": {
        "id": "aB4yBH0RDQMs"
      },
      "outputs": [],
      "source": [
        ""
      ]
    }
  ]
}