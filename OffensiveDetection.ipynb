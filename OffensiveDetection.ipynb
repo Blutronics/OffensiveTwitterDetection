{
  "nbformat": 4,
  "nbformat_minor": 0,
  "metadata": {
    "colab": {
      "name": "OffensiveDetection.ipynb",
      "provenance": [],
      "collapsed_sections": [],
      "include_colab_link": true
    },
    "kernelspec": {
      "name": "python3",
      "display_name": "Python 3"
    },
    "language_info": {
      "name": "python"
    }
  },
  "cells": [
    {
      "cell_type": "markdown",
      "metadata": {
        "id": "view-in-github",
        "colab_type": "text"
      },
      "source": [
        "<a href=\"https://colab.research.google.com/github/Blutronics/OffensiveTwitterDetection/blob/Toan/OffensiveDetection.ipynb\" target=\"_parent\"><img src=\"https://colab.research.google.com/assets/colab-badge.svg\" alt=\"Open In Colab\"/></a>"
      ]
    },
    {
      "cell_type": "code",
      "execution_count": 1260,
      "metadata": {
        "id": "aB4yBH0RDQMs"
      },
      "outputs": [],
      "source": [
        "import numpy as np\n",
        "import pandas as pd\n",
        "import re \n",
        "from sklearn.feature_extraction.text import TfidfVectorizer\n",
        "import matplotlib.pyplot as plt\n",
        "from wordcloud import WordCloud\n",
        "from collections import Counter\n",
        "from imblearn.over_sampling import SMOTE\n",
        "from imblearn.over_sampling import RandomOverSampler\n",
        "from sklearn.model_selection import train_test_split\n",
        "from sklearn.tree import DecisionTreeClassifier\n",
        "from sklearn.linear_model import LogisticRegression\n",
        "from sklearn.neighbors import KNeighborsClassifier\n",
        "from sklearn.ensemble import RandomForestClassifier,VotingClassifier\n",
        "from sklearn.svm import SVC\n",
        "from sklearn.naive_bayes import GaussianNB\n",
        "from sklearn.metrics import accuracy_score,r2_score\n",
        "import xgboost as xgb\n",
        "import lightgbm as gbm"
      ]
    },
    {
      "cell_type": "code",
      "source": [
        "data=pd.read_csv(\"twitter.csv\")\n",
        "data.head()"
      ],
      "metadata": {
        "colab": {
          "base_uri": "https://localhost:8080/",
          "height": 206
        },
        "id": "WBDLxZKGD2Sd",
        "outputId": "b2540f65-eb1d-4b13-f857-f7bac0a176ff"
      },
      "execution_count": 1261,
      "outputs": [
        {
          "output_type": "execute_result",
          "data": {
            "text/plain": [
              "   Unnamed: 0  count  hate_speech  offensive_language  neither  class  \\\n",
              "0           0      3            0                   0        3      2   \n",
              "1           1      3            0                   3        0      1   \n",
              "2           2      3            0                   3        0      1   \n",
              "3           3      3            0                   2        1      1   \n",
              "4           4      6            0                   6        0      1   \n",
              "\n",
              "                                               tweet  \n",
              "0  !!! RT @mayasolovely: As a woman you shouldn't...  \n",
              "1  !!!!! RT @mleew17: boy dats cold...tyga dwn ba...  \n",
              "2  !!!!!!! RT @UrKindOfBrand Dawg!!!! RT @80sbaby...  \n",
              "3  !!!!!!!!! RT @C_G_Anderson: @viva_based she lo...  \n",
              "4  !!!!!!!!!!!!! RT @ShenikaRoberts: The shit you...  "
            ],
            "text/html": [
              "\n",
              "  <div id=\"df-afad58e7-af47-4e38-8b4f-c18916586496\">\n",
              "    <div class=\"colab-df-container\">\n",
              "      <div>\n",
              "<style scoped>\n",
              "    .dataframe tbody tr th:only-of-type {\n",
              "        vertical-align: middle;\n",
              "    }\n",
              "\n",
              "    .dataframe tbody tr th {\n",
              "        vertical-align: top;\n",
              "    }\n",
              "\n",
              "    .dataframe thead th {\n",
              "        text-align: right;\n",
              "    }\n",
              "</style>\n",
              "<table border=\"1\" class=\"dataframe\">\n",
              "  <thead>\n",
              "    <tr style=\"text-align: right;\">\n",
              "      <th></th>\n",
              "      <th>Unnamed: 0</th>\n",
              "      <th>count</th>\n",
              "      <th>hate_speech</th>\n",
              "      <th>offensive_language</th>\n",
              "      <th>neither</th>\n",
              "      <th>class</th>\n",
              "      <th>tweet</th>\n",
              "    </tr>\n",
              "  </thead>\n",
              "  <tbody>\n",
              "    <tr>\n",
              "      <th>0</th>\n",
              "      <td>0</td>\n",
              "      <td>3</td>\n",
              "      <td>0</td>\n",
              "      <td>0</td>\n",
              "      <td>3</td>\n",
              "      <td>2</td>\n",
              "      <td>!!! RT @mayasolovely: As a woman you shouldn't...</td>\n",
              "    </tr>\n",
              "    <tr>\n",
              "      <th>1</th>\n",
              "      <td>1</td>\n",
              "      <td>3</td>\n",
              "      <td>0</td>\n",
              "      <td>3</td>\n",
              "      <td>0</td>\n",
              "      <td>1</td>\n",
              "      <td>!!!!! RT @mleew17: boy dats cold...tyga dwn ba...</td>\n",
              "    </tr>\n",
              "    <tr>\n",
              "      <th>2</th>\n",
              "      <td>2</td>\n",
              "      <td>3</td>\n",
              "      <td>0</td>\n",
              "      <td>3</td>\n",
              "      <td>0</td>\n",
              "      <td>1</td>\n",
              "      <td>!!!!!!! RT @UrKindOfBrand Dawg!!!! RT @80sbaby...</td>\n",
              "    </tr>\n",
              "    <tr>\n",
              "      <th>3</th>\n",
              "      <td>3</td>\n",
              "      <td>3</td>\n",
              "      <td>0</td>\n",
              "      <td>2</td>\n",
              "      <td>1</td>\n",
              "      <td>1</td>\n",
              "      <td>!!!!!!!!! RT @C_G_Anderson: @viva_based she lo...</td>\n",
              "    </tr>\n",
              "    <tr>\n",
              "      <th>4</th>\n",
              "      <td>4</td>\n",
              "      <td>6</td>\n",
              "      <td>0</td>\n",
              "      <td>6</td>\n",
              "      <td>0</td>\n",
              "      <td>1</td>\n",
              "      <td>!!!!!!!!!!!!! RT @ShenikaRoberts: The shit you...</td>\n",
              "    </tr>\n",
              "  </tbody>\n",
              "</table>\n",
              "</div>\n",
              "      <button class=\"colab-df-convert\" onclick=\"convertToInteractive('df-afad58e7-af47-4e38-8b4f-c18916586496')\"\n",
              "              title=\"Convert this dataframe to an interactive table.\"\n",
              "              style=\"display:none;\">\n",
              "        \n",
              "  <svg xmlns=\"http://www.w3.org/2000/svg\" height=\"24px\"viewBox=\"0 0 24 24\"\n",
              "       width=\"24px\">\n",
              "    <path d=\"M0 0h24v24H0V0z\" fill=\"none\"/>\n",
              "    <path d=\"M18.56 5.44l.94 2.06.94-2.06 2.06-.94-2.06-.94-.94-2.06-.94 2.06-2.06.94zm-11 1L8.5 8.5l.94-2.06 2.06-.94-2.06-.94L8.5 2.5l-.94 2.06-2.06.94zm10 10l.94 2.06.94-2.06 2.06-.94-2.06-.94-.94-2.06-.94 2.06-2.06.94z\"/><path d=\"M17.41 7.96l-1.37-1.37c-.4-.4-.92-.59-1.43-.59-.52 0-1.04.2-1.43.59L10.3 9.45l-7.72 7.72c-.78.78-.78 2.05 0 2.83L4 21.41c.39.39.9.59 1.41.59.51 0 1.02-.2 1.41-.59l7.78-7.78 2.81-2.81c.8-.78.8-2.07 0-2.86zM5.41 20L4 18.59l7.72-7.72 1.47 1.35L5.41 20z\"/>\n",
              "  </svg>\n",
              "      </button>\n",
              "      \n",
              "  <style>\n",
              "    .colab-df-container {\n",
              "      display:flex;\n",
              "      flex-wrap:wrap;\n",
              "      gap: 12px;\n",
              "    }\n",
              "\n",
              "    .colab-df-convert {\n",
              "      background-color: #E8F0FE;\n",
              "      border: none;\n",
              "      border-radius: 50%;\n",
              "      cursor: pointer;\n",
              "      display: none;\n",
              "      fill: #1967D2;\n",
              "      height: 32px;\n",
              "      padding: 0 0 0 0;\n",
              "      width: 32px;\n",
              "    }\n",
              "\n",
              "    .colab-df-convert:hover {\n",
              "      background-color: #E2EBFA;\n",
              "      box-shadow: 0px 1px 2px rgba(60, 64, 67, 0.3), 0px 1px 3px 1px rgba(60, 64, 67, 0.15);\n",
              "      fill: #174EA6;\n",
              "    }\n",
              "\n",
              "    [theme=dark] .colab-df-convert {\n",
              "      background-color: #3B4455;\n",
              "      fill: #D2E3FC;\n",
              "    }\n",
              "\n",
              "    [theme=dark] .colab-df-convert:hover {\n",
              "      background-color: #434B5C;\n",
              "      box-shadow: 0px 1px 3px 1px rgba(0, 0, 0, 0.15);\n",
              "      filter: drop-shadow(0px 1px 2px rgba(0, 0, 0, 0.3));\n",
              "      fill: #FFFFFF;\n",
              "    }\n",
              "  </style>\n",
              "\n",
              "      <script>\n",
              "        const buttonEl =\n",
              "          document.querySelector('#df-afad58e7-af47-4e38-8b4f-c18916586496 button.colab-df-convert');\n",
              "        buttonEl.style.display =\n",
              "          google.colab.kernel.accessAllowed ? 'block' : 'none';\n",
              "\n",
              "        async function convertToInteractive(key) {\n",
              "          const element = document.querySelector('#df-afad58e7-af47-4e38-8b4f-c18916586496');\n",
              "          const dataTable =\n",
              "            await google.colab.kernel.invokeFunction('convertToInteractive',\n",
              "                                                     [key], {});\n",
              "          if (!dataTable) return;\n",
              "\n",
              "          const docLinkHtml = 'Like what you see? Visit the ' +\n",
              "            '<a target=\"_blank\" href=https://colab.research.google.com/notebooks/data_table.ipynb>data table notebook</a>'\n",
              "            + ' to learn more about interactive tables.';\n",
              "          element.innerHTML = '';\n",
              "          dataTable['output_type'] = 'display_data';\n",
              "          await google.colab.output.renderOutput(dataTable, element);\n",
              "          const docLink = document.createElement('div');\n",
              "          docLink.innerHTML = docLinkHtml;\n",
              "          element.appendChild(docLink);\n",
              "        }\n",
              "      </script>\n",
              "    </div>\n",
              "  </div>\n",
              "  "
            ]
          },
          "metadata": {},
          "execution_count": 1261
        }
      ]
    },
    {
      "cell_type": "code",
      "source": [
        "classdf=data[['class','tweet']]\n",
        "classdf.head()"
      ],
      "metadata": {
        "colab": {
          "base_uri": "https://localhost:8080/",
          "height": 206
        },
        "id": "ZqYEQiZ_EA22",
        "outputId": "4c486bc3-b421-44db-d435-9294fb3f405f"
      },
      "execution_count": 1262,
      "outputs": [
        {
          "output_type": "execute_result",
          "data": {
            "text/plain": [
              "   class                                              tweet\n",
              "0      2  !!! RT @mayasolovely: As a woman you shouldn't...\n",
              "1      1  !!!!! RT @mleew17: boy dats cold...tyga dwn ba...\n",
              "2      1  !!!!!!! RT @UrKindOfBrand Dawg!!!! RT @80sbaby...\n",
              "3      1  !!!!!!!!! RT @C_G_Anderson: @viva_based she lo...\n",
              "4      1  !!!!!!!!!!!!! RT @ShenikaRoberts: The shit you..."
            ],
            "text/html": [
              "\n",
              "  <div id=\"df-7cfc3dac-e795-46c3-8691-8cc94f9e8938\">\n",
              "    <div class=\"colab-df-container\">\n",
              "      <div>\n",
              "<style scoped>\n",
              "    .dataframe tbody tr th:only-of-type {\n",
              "        vertical-align: middle;\n",
              "    }\n",
              "\n",
              "    .dataframe tbody tr th {\n",
              "        vertical-align: top;\n",
              "    }\n",
              "\n",
              "    .dataframe thead th {\n",
              "        text-align: right;\n",
              "    }\n",
              "</style>\n",
              "<table border=\"1\" class=\"dataframe\">\n",
              "  <thead>\n",
              "    <tr style=\"text-align: right;\">\n",
              "      <th></th>\n",
              "      <th>class</th>\n",
              "      <th>tweet</th>\n",
              "    </tr>\n",
              "  </thead>\n",
              "  <tbody>\n",
              "    <tr>\n",
              "      <th>0</th>\n",
              "      <td>2</td>\n",
              "      <td>!!! RT @mayasolovely: As a woman you shouldn't...</td>\n",
              "    </tr>\n",
              "    <tr>\n",
              "      <th>1</th>\n",
              "      <td>1</td>\n",
              "      <td>!!!!! RT @mleew17: boy dats cold...tyga dwn ba...</td>\n",
              "    </tr>\n",
              "    <tr>\n",
              "      <th>2</th>\n",
              "      <td>1</td>\n",
              "      <td>!!!!!!! RT @UrKindOfBrand Dawg!!!! RT @80sbaby...</td>\n",
              "    </tr>\n",
              "    <tr>\n",
              "      <th>3</th>\n",
              "      <td>1</td>\n",
              "      <td>!!!!!!!!! RT @C_G_Anderson: @viva_based she lo...</td>\n",
              "    </tr>\n",
              "    <tr>\n",
              "      <th>4</th>\n",
              "      <td>1</td>\n",
              "      <td>!!!!!!!!!!!!! RT @ShenikaRoberts: The shit you...</td>\n",
              "    </tr>\n",
              "  </tbody>\n",
              "</table>\n",
              "</div>\n",
              "      <button class=\"colab-df-convert\" onclick=\"convertToInteractive('df-7cfc3dac-e795-46c3-8691-8cc94f9e8938')\"\n",
              "              title=\"Convert this dataframe to an interactive table.\"\n",
              "              style=\"display:none;\">\n",
              "        \n",
              "  <svg xmlns=\"http://www.w3.org/2000/svg\" height=\"24px\"viewBox=\"0 0 24 24\"\n",
              "       width=\"24px\">\n",
              "    <path d=\"M0 0h24v24H0V0z\" fill=\"none\"/>\n",
              "    <path d=\"M18.56 5.44l.94 2.06.94-2.06 2.06-.94-2.06-.94-.94-2.06-.94 2.06-2.06.94zm-11 1L8.5 8.5l.94-2.06 2.06-.94-2.06-.94L8.5 2.5l-.94 2.06-2.06.94zm10 10l.94 2.06.94-2.06 2.06-.94-2.06-.94-.94-2.06-.94 2.06-2.06.94z\"/><path d=\"M17.41 7.96l-1.37-1.37c-.4-.4-.92-.59-1.43-.59-.52 0-1.04.2-1.43.59L10.3 9.45l-7.72 7.72c-.78.78-.78 2.05 0 2.83L4 21.41c.39.39.9.59 1.41.59.51 0 1.02-.2 1.41-.59l7.78-7.78 2.81-2.81c.8-.78.8-2.07 0-2.86zM5.41 20L4 18.59l7.72-7.72 1.47 1.35L5.41 20z\"/>\n",
              "  </svg>\n",
              "      </button>\n",
              "      \n",
              "  <style>\n",
              "    .colab-df-container {\n",
              "      display:flex;\n",
              "      flex-wrap:wrap;\n",
              "      gap: 12px;\n",
              "    }\n",
              "\n",
              "    .colab-df-convert {\n",
              "      background-color: #E8F0FE;\n",
              "      border: none;\n",
              "      border-radius: 50%;\n",
              "      cursor: pointer;\n",
              "      display: none;\n",
              "      fill: #1967D2;\n",
              "      height: 32px;\n",
              "      padding: 0 0 0 0;\n",
              "      width: 32px;\n",
              "    }\n",
              "\n",
              "    .colab-df-convert:hover {\n",
              "      background-color: #E2EBFA;\n",
              "      box-shadow: 0px 1px 2px rgba(60, 64, 67, 0.3), 0px 1px 3px 1px rgba(60, 64, 67, 0.15);\n",
              "      fill: #174EA6;\n",
              "    }\n",
              "\n",
              "    [theme=dark] .colab-df-convert {\n",
              "      background-color: #3B4455;\n",
              "      fill: #D2E3FC;\n",
              "    }\n",
              "\n",
              "    [theme=dark] .colab-df-convert:hover {\n",
              "      background-color: #434B5C;\n",
              "      box-shadow: 0px 1px 3px 1px rgba(0, 0, 0, 0.15);\n",
              "      filter: drop-shadow(0px 1px 2px rgba(0, 0, 0, 0.3));\n",
              "      fill: #FFFFFF;\n",
              "    }\n",
              "  </style>\n",
              "\n",
              "      <script>\n",
              "        const buttonEl =\n",
              "          document.querySelector('#df-7cfc3dac-e795-46c3-8691-8cc94f9e8938 button.colab-df-convert');\n",
              "        buttonEl.style.display =\n",
              "          google.colab.kernel.accessAllowed ? 'block' : 'none';\n",
              "\n",
              "        async function convertToInteractive(key) {\n",
              "          const element = document.querySelector('#df-7cfc3dac-e795-46c3-8691-8cc94f9e8938');\n",
              "          const dataTable =\n",
              "            await google.colab.kernel.invokeFunction('convertToInteractive',\n",
              "                                                     [key], {});\n",
              "          if (!dataTable) return;\n",
              "\n",
              "          const docLinkHtml = 'Like what you see? Visit the ' +\n",
              "            '<a target=\"_blank\" href=https://colab.research.google.com/notebooks/data_table.ipynb>data table notebook</a>'\n",
              "            + ' to learn more about interactive tables.';\n",
              "          element.innerHTML = '';\n",
              "          dataTable['output_type'] = 'display_data';\n",
              "          await google.colab.output.renderOutput(dataTable, element);\n",
              "          const docLink = document.createElement('div');\n",
              "          docLink.innerHTML = docLinkHtml;\n",
              "          element.appendChild(docLink);\n",
              "        }\n",
              "      </script>\n",
              "    </div>\n",
              "  </div>\n",
              "  "
            ]
          },
          "metadata": {},
          "execution_count": 1262
        }
      ]
    },
    {
      "cell_type": "code",
      "source": [
        "tweets=classdf.tweet.to_string()"
      ],
      "metadata": {
        "id": "1xKdhQBiG1qB"
      },
      "execution_count": 1263,
      "outputs": []
    },
    {
      "cell_type": "code",
      "source": [
        ""
      ],
      "metadata": {
        "id": "7M52X7d7F0o-"
      },
      "execution_count": 1263,
      "outputs": []
    },
    {
      "cell_type": "code",
      "source": [
        "tweets = re.sub(\"[^A-Za-z\" \"]+\",\" \", tweets).lower()\n",
        "tweets = re.sub(\"[0-9\" \"]+\",\" \", tweets)"
      ],
      "metadata": {
        "id": "AFafwU8dFoX5"
      },
      "execution_count": 1264,
      "outputs": []
    },
    {
      "cell_type": "code",
      "source": [
        ""
      ],
      "metadata": {
        "id": "b6emqyhgHjvY"
      },
      "execution_count": 1264,
      "outputs": []
    },
    {
      "cell_type": "code",
      "source": [
        "class2df=classdf.loc[classdf['class']==2]\n",
        "class2df.head()"
      ],
      "metadata": {
        "colab": {
          "base_uri": "https://localhost:8080/",
          "height": 206
        },
        "id": "FROUd1-gES5P",
        "outputId": "d0ef5984-db4f-402e-9ec6-828d87491d2b"
      },
      "execution_count": 1265,
      "outputs": [
        {
          "output_type": "execute_result",
          "data": {
            "text/plain": [
              "    class                                              tweet\n",
              "0       2  !!! RT @mayasolovely: As a woman you shouldn't...\n",
              "40      2    \" momma said no pussy cats inside my doghouse \"\n",
              "63      2  \"@Addicted2Guys: -SimplyAddictedToGuys http://...\n",
              "66      2  \"@AllAboutManFeet: http://t.co/3gzUpfuMev\" woo...\n",
              "67      2  \"@Allyhaaaaa: Lemmie eat a Oreo &amp; do these..."
            ],
            "text/html": [
              "\n",
              "  <div id=\"df-73e247e7-8e33-4863-b8df-ebd4449bf4db\">\n",
              "    <div class=\"colab-df-container\">\n",
              "      <div>\n",
              "<style scoped>\n",
              "    .dataframe tbody tr th:only-of-type {\n",
              "        vertical-align: middle;\n",
              "    }\n",
              "\n",
              "    .dataframe tbody tr th {\n",
              "        vertical-align: top;\n",
              "    }\n",
              "\n",
              "    .dataframe thead th {\n",
              "        text-align: right;\n",
              "    }\n",
              "</style>\n",
              "<table border=\"1\" class=\"dataframe\">\n",
              "  <thead>\n",
              "    <tr style=\"text-align: right;\">\n",
              "      <th></th>\n",
              "      <th>class</th>\n",
              "      <th>tweet</th>\n",
              "    </tr>\n",
              "  </thead>\n",
              "  <tbody>\n",
              "    <tr>\n",
              "      <th>0</th>\n",
              "      <td>2</td>\n",
              "      <td>!!! RT @mayasolovely: As a woman you shouldn't...</td>\n",
              "    </tr>\n",
              "    <tr>\n",
              "      <th>40</th>\n",
              "      <td>2</td>\n",
              "      <td>\" momma said no pussy cats inside my doghouse \"</td>\n",
              "    </tr>\n",
              "    <tr>\n",
              "      <th>63</th>\n",
              "      <td>2</td>\n",
              "      <td>\"@Addicted2Guys: -SimplyAddictedToGuys http://...</td>\n",
              "    </tr>\n",
              "    <tr>\n",
              "      <th>66</th>\n",
              "      <td>2</td>\n",
              "      <td>\"@AllAboutManFeet: http://t.co/3gzUpfuMev\" woo...</td>\n",
              "    </tr>\n",
              "    <tr>\n",
              "      <th>67</th>\n",
              "      <td>2</td>\n",
              "      <td>\"@Allyhaaaaa: Lemmie eat a Oreo &amp;amp; do these...</td>\n",
              "    </tr>\n",
              "  </tbody>\n",
              "</table>\n",
              "</div>\n",
              "      <button class=\"colab-df-convert\" onclick=\"convertToInteractive('df-73e247e7-8e33-4863-b8df-ebd4449bf4db')\"\n",
              "              title=\"Convert this dataframe to an interactive table.\"\n",
              "              style=\"display:none;\">\n",
              "        \n",
              "  <svg xmlns=\"http://www.w3.org/2000/svg\" height=\"24px\"viewBox=\"0 0 24 24\"\n",
              "       width=\"24px\">\n",
              "    <path d=\"M0 0h24v24H0V0z\" fill=\"none\"/>\n",
              "    <path d=\"M18.56 5.44l.94 2.06.94-2.06 2.06-.94-2.06-.94-.94-2.06-.94 2.06-2.06.94zm-11 1L8.5 8.5l.94-2.06 2.06-.94-2.06-.94L8.5 2.5l-.94 2.06-2.06.94zm10 10l.94 2.06.94-2.06 2.06-.94-2.06-.94-.94-2.06-.94 2.06-2.06.94z\"/><path d=\"M17.41 7.96l-1.37-1.37c-.4-.4-.92-.59-1.43-.59-.52 0-1.04.2-1.43.59L10.3 9.45l-7.72 7.72c-.78.78-.78 2.05 0 2.83L4 21.41c.39.39.9.59 1.41.59.51 0 1.02-.2 1.41-.59l7.78-7.78 2.81-2.81c.8-.78.8-2.07 0-2.86zM5.41 20L4 18.59l7.72-7.72 1.47 1.35L5.41 20z\"/>\n",
              "  </svg>\n",
              "      </button>\n",
              "      \n",
              "  <style>\n",
              "    .colab-df-container {\n",
              "      display:flex;\n",
              "      flex-wrap:wrap;\n",
              "      gap: 12px;\n",
              "    }\n",
              "\n",
              "    .colab-df-convert {\n",
              "      background-color: #E8F0FE;\n",
              "      border: none;\n",
              "      border-radius: 50%;\n",
              "      cursor: pointer;\n",
              "      display: none;\n",
              "      fill: #1967D2;\n",
              "      height: 32px;\n",
              "      padding: 0 0 0 0;\n",
              "      width: 32px;\n",
              "    }\n",
              "\n",
              "    .colab-df-convert:hover {\n",
              "      background-color: #E2EBFA;\n",
              "      box-shadow: 0px 1px 2px rgba(60, 64, 67, 0.3), 0px 1px 3px 1px rgba(60, 64, 67, 0.15);\n",
              "      fill: #174EA6;\n",
              "    }\n",
              "\n",
              "    [theme=dark] .colab-df-convert {\n",
              "      background-color: #3B4455;\n",
              "      fill: #D2E3FC;\n",
              "    }\n",
              "\n",
              "    [theme=dark] .colab-df-convert:hover {\n",
              "      background-color: #434B5C;\n",
              "      box-shadow: 0px 1px 3px 1px rgba(0, 0, 0, 0.15);\n",
              "      filter: drop-shadow(0px 1px 2px rgba(0, 0, 0, 0.3));\n",
              "      fill: #FFFFFF;\n",
              "    }\n",
              "  </style>\n",
              "\n",
              "      <script>\n",
              "        const buttonEl =\n",
              "          document.querySelector('#df-73e247e7-8e33-4863-b8df-ebd4449bf4db button.colab-df-convert');\n",
              "        buttonEl.style.display =\n",
              "          google.colab.kernel.accessAllowed ? 'block' : 'none';\n",
              "\n",
              "        async function convertToInteractive(key) {\n",
              "          const element = document.querySelector('#df-73e247e7-8e33-4863-b8df-ebd4449bf4db');\n",
              "          const dataTable =\n",
              "            await google.colab.kernel.invokeFunction('convertToInteractive',\n",
              "                                                     [key], {});\n",
              "          if (!dataTable) return;\n",
              "\n",
              "          const docLinkHtml = 'Like what you see? Visit the ' +\n",
              "            '<a target=\"_blank\" href=https://colab.research.google.com/notebooks/data_table.ipynb>data table notebook</a>'\n",
              "            + ' to learn more about interactive tables.';\n",
              "          element.innerHTML = '';\n",
              "          dataTable['output_type'] = 'display_data';\n",
              "          await google.colab.output.renderOutput(dataTable, element);\n",
              "          const docLink = document.createElement('div');\n",
              "          docLink.innerHTML = docLinkHtml;\n",
              "          element.appendChild(docLink);\n",
              "        }\n",
              "      </script>\n",
              "    </div>\n",
              "  </div>\n",
              "  "
            ]
          },
          "metadata": {},
          "execution_count": 1265
        }
      ]
    },
    {
      "cell_type": "code",
      "source": [
        "offensivedf=classdf.loc[classdf['class']==1]\n",
        "offensivedf.head()"
      ],
      "metadata": {
        "colab": {
          "base_uri": "https://localhost:8080/",
          "height": 206
        },
        "id": "2lpwE9LLEZqw",
        "outputId": "070acaf2-066e-4bf1-8065-59a7be7f2789"
      },
      "execution_count": 1266,
      "outputs": [
        {
          "output_type": "execute_result",
          "data": {
            "text/plain": [
              "   class                                              tweet\n",
              "1      1  !!!!! RT @mleew17: boy dats cold...tyga dwn ba...\n",
              "2      1  !!!!!!! RT @UrKindOfBrand Dawg!!!! RT @80sbaby...\n",
              "3      1  !!!!!!!!! RT @C_G_Anderson: @viva_based she lo...\n",
              "4      1  !!!!!!!!!!!!! RT @ShenikaRoberts: The shit you...\n",
              "5      1  !!!!!!!!!!!!!!!!!!\"@T_Madison_x: The shit just..."
            ],
            "text/html": [
              "\n",
              "  <div id=\"df-157593b4-e276-47b8-8f89-fa51dcc18c1f\">\n",
              "    <div class=\"colab-df-container\">\n",
              "      <div>\n",
              "<style scoped>\n",
              "    .dataframe tbody tr th:only-of-type {\n",
              "        vertical-align: middle;\n",
              "    }\n",
              "\n",
              "    .dataframe tbody tr th {\n",
              "        vertical-align: top;\n",
              "    }\n",
              "\n",
              "    .dataframe thead th {\n",
              "        text-align: right;\n",
              "    }\n",
              "</style>\n",
              "<table border=\"1\" class=\"dataframe\">\n",
              "  <thead>\n",
              "    <tr style=\"text-align: right;\">\n",
              "      <th></th>\n",
              "      <th>class</th>\n",
              "      <th>tweet</th>\n",
              "    </tr>\n",
              "  </thead>\n",
              "  <tbody>\n",
              "    <tr>\n",
              "      <th>1</th>\n",
              "      <td>1</td>\n",
              "      <td>!!!!! RT @mleew17: boy dats cold...tyga dwn ba...</td>\n",
              "    </tr>\n",
              "    <tr>\n",
              "      <th>2</th>\n",
              "      <td>1</td>\n",
              "      <td>!!!!!!! RT @UrKindOfBrand Dawg!!!! RT @80sbaby...</td>\n",
              "    </tr>\n",
              "    <tr>\n",
              "      <th>3</th>\n",
              "      <td>1</td>\n",
              "      <td>!!!!!!!!! RT @C_G_Anderson: @viva_based she lo...</td>\n",
              "    </tr>\n",
              "    <tr>\n",
              "      <th>4</th>\n",
              "      <td>1</td>\n",
              "      <td>!!!!!!!!!!!!! RT @ShenikaRoberts: The shit you...</td>\n",
              "    </tr>\n",
              "    <tr>\n",
              "      <th>5</th>\n",
              "      <td>1</td>\n",
              "      <td>!!!!!!!!!!!!!!!!!!\"@T_Madison_x: The shit just...</td>\n",
              "    </tr>\n",
              "  </tbody>\n",
              "</table>\n",
              "</div>\n",
              "      <button class=\"colab-df-convert\" onclick=\"convertToInteractive('df-157593b4-e276-47b8-8f89-fa51dcc18c1f')\"\n",
              "              title=\"Convert this dataframe to an interactive table.\"\n",
              "              style=\"display:none;\">\n",
              "        \n",
              "  <svg xmlns=\"http://www.w3.org/2000/svg\" height=\"24px\"viewBox=\"0 0 24 24\"\n",
              "       width=\"24px\">\n",
              "    <path d=\"M0 0h24v24H0V0z\" fill=\"none\"/>\n",
              "    <path d=\"M18.56 5.44l.94 2.06.94-2.06 2.06-.94-2.06-.94-.94-2.06-.94 2.06-2.06.94zm-11 1L8.5 8.5l.94-2.06 2.06-.94-2.06-.94L8.5 2.5l-.94 2.06-2.06.94zm10 10l.94 2.06.94-2.06 2.06-.94-2.06-.94-.94-2.06-.94 2.06-2.06.94z\"/><path d=\"M17.41 7.96l-1.37-1.37c-.4-.4-.92-.59-1.43-.59-.52 0-1.04.2-1.43.59L10.3 9.45l-7.72 7.72c-.78.78-.78 2.05 0 2.83L4 21.41c.39.39.9.59 1.41.59.51 0 1.02-.2 1.41-.59l7.78-7.78 2.81-2.81c.8-.78.8-2.07 0-2.86zM5.41 20L4 18.59l7.72-7.72 1.47 1.35L5.41 20z\"/>\n",
              "  </svg>\n",
              "      </button>\n",
              "      \n",
              "  <style>\n",
              "    .colab-df-container {\n",
              "      display:flex;\n",
              "      flex-wrap:wrap;\n",
              "      gap: 12px;\n",
              "    }\n",
              "\n",
              "    .colab-df-convert {\n",
              "      background-color: #E8F0FE;\n",
              "      border: none;\n",
              "      border-radius: 50%;\n",
              "      cursor: pointer;\n",
              "      display: none;\n",
              "      fill: #1967D2;\n",
              "      height: 32px;\n",
              "      padding: 0 0 0 0;\n",
              "      width: 32px;\n",
              "    }\n",
              "\n",
              "    .colab-df-convert:hover {\n",
              "      background-color: #E2EBFA;\n",
              "      box-shadow: 0px 1px 2px rgba(60, 64, 67, 0.3), 0px 1px 3px 1px rgba(60, 64, 67, 0.15);\n",
              "      fill: #174EA6;\n",
              "    }\n",
              "\n",
              "    [theme=dark] .colab-df-convert {\n",
              "      background-color: #3B4455;\n",
              "      fill: #D2E3FC;\n",
              "    }\n",
              "\n",
              "    [theme=dark] .colab-df-convert:hover {\n",
              "      background-color: #434B5C;\n",
              "      box-shadow: 0px 1px 3px 1px rgba(0, 0, 0, 0.15);\n",
              "      filter: drop-shadow(0px 1px 2px rgba(0, 0, 0, 0.3));\n",
              "      fill: #FFFFFF;\n",
              "    }\n",
              "  </style>\n",
              "\n",
              "      <script>\n",
              "        const buttonEl =\n",
              "          document.querySelector('#df-157593b4-e276-47b8-8f89-fa51dcc18c1f button.colab-df-convert');\n",
              "        buttonEl.style.display =\n",
              "          google.colab.kernel.accessAllowed ? 'block' : 'none';\n",
              "\n",
              "        async function convertToInteractive(key) {\n",
              "          const element = document.querySelector('#df-157593b4-e276-47b8-8f89-fa51dcc18c1f');\n",
              "          const dataTable =\n",
              "            await google.colab.kernel.invokeFunction('convertToInteractive',\n",
              "                                                     [key], {});\n",
              "          if (!dataTable) return;\n",
              "\n",
              "          const docLinkHtml = 'Like what you see? Visit the ' +\n",
              "            '<a target=\"_blank\" href=https://colab.research.google.com/notebooks/data_table.ipynb>data table notebook</a>'\n",
              "            + ' to learn more about interactive tables.';\n",
              "          element.innerHTML = '';\n",
              "          dataTable['output_type'] = 'display_data';\n",
              "          await google.colab.output.renderOutput(dataTable, element);\n",
              "          const docLink = document.createElement('div');\n",
              "          docLink.innerHTML = docLinkHtml;\n",
              "          element.appendChild(docLink);\n",
              "        }\n",
              "      </script>\n",
              "    </div>\n",
              "  </div>\n",
              "  "
            ]
          },
          "metadata": {},
          "execution_count": 1266
        }
      ]
    },
    {
      "cell_type": "code",
      "source": [
        "hatedf=classdf.loc[classdf['class']==0]\n",
        "hatedf.head()"
      ],
      "metadata": {
        "colab": {
          "base_uri": "https://localhost:8080/",
          "height": 206
        },
        "id": "KmD_v_muE4Gv",
        "outputId": "f059f0e1-b012-4c57-b1ba-33ecf8bd21e8"
      },
      "execution_count": 1267,
      "outputs": [
        {
          "output_type": "execute_result",
          "data": {
            "text/plain": [
              "     class                                              tweet\n",
              "85       0  \"@Blackman38Tide: @WhaleLookyHere @HowdyDowdy1...\n",
              "89       0  \"@CB_Baby24: @white_thunduh alsarabsss\" hes a ...\n",
              "110      0  \"@DevilGrimz: @VigxRArts you're fucking gay, b...\n",
              "184      0  \"@MarkRoundtreeJr: LMFAOOOO I HATE BLACK PEOPL...\n",
              "202      0  \"@NoChillPaz: \"At least I'm not a nigger\" http..."
            ],
            "text/html": [
              "\n",
              "  <div id=\"df-b576e584-0ed1-4d73-8c07-c7f22d188fbe\">\n",
              "    <div class=\"colab-df-container\">\n",
              "      <div>\n",
              "<style scoped>\n",
              "    .dataframe tbody tr th:only-of-type {\n",
              "        vertical-align: middle;\n",
              "    }\n",
              "\n",
              "    .dataframe tbody tr th {\n",
              "        vertical-align: top;\n",
              "    }\n",
              "\n",
              "    .dataframe thead th {\n",
              "        text-align: right;\n",
              "    }\n",
              "</style>\n",
              "<table border=\"1\" class=\"dataframe\">\n",
              "  <thead>\n",
              "    <tr style=\"text-align: right;\">\n",
              "      <th></th>\n",
              "      <th>class</th>\n",
              "      <th>tweet</th>\n",
              "    </tr>\n",
              "  </thead>\n",
              "  <tbody>\n",
              "    <tr>\n",
              "      <th>85</th>\n",
              "      <td>0</td>\n",
              "      <td>\"@Blackman38Tide: @WhaleLookyHere @HowdyDowdy1...</td>\n",
              "    </tr>\n",
              "    <tr>\n",
              "      <th>89</th>\n",
              "      <td>0</td>\n",
              "      <td>\"@CB_Baby24: @white_thunduh alsarabsss\" hes a ...</td>\n",
              "    </tr>\n",
              "    <tr>\n",
              "      <th>110</th>\n",
              "      <td>0</td>\n",
              "      <td>\"@DevilGrimz: @VigxRArts you're fucking gay, b...</td>\n",
              "    </tr>\n",
              "    <tr>\n",
              "      <th>184</th>\n",
              "      <td>0</td>\n",
              "      <td>\"@MarkRoundtreeJr: LMFAOOOO I HATE BLACK PEOPL...</td>\n",
              "    </tr>\n",
              "    <tr>\n",
              "      <th>202</th>\n",
              "      <td>0</td>\n",
              "      <td>\"@NoChillPaz: \"At least I'm not a nigger\" http...</td>\n",
              "    </tr>\n",
              "  </tbody>\n",
              "</table>\n",
              "</div>\n",
              "      <button class=\"colab-df-convert\" onclick=\"convertToInteractive('df-b576e584-0ed1-4d73-8c07-c7f22d188fbe')\"\n",
              "              title=\"Convert this dataframe to an interactive table.\"\n",
              "              style=\"display:none;\">\n",
              "        \n",
              "  <svg xmlns=\"http://www.w3.org/2000/svg\" height=\"24px\"viewBox=\"0 0 24 24\"\n",
              "       width=\"24px\">\n",
              "    <path d=\"M0 0h24v24H0V0z\" fill=\"none\"/>\n",
              "    <path d=\"M18.56 5.44l.94 2.06.94-2.06 2.06-.94-2.06-.94-.94-2.06-.94 2.06-2.06.94zm-11 1L8.5 8.5l.94-2.06 2.06-.94-2.06-.94L8.5 2.5l-.94 2.06-2.06.94zm10 10l.94 2.06.94-2.06 2.06-.94-2.06-.94-.94-2.06-.94 2.06-2.06.94z\"/><path d=\"M17.41 7.96l-1.37-1.37c-.4-.4-.92-.59-1.43-.59-.52 0-1.04.2-1.43.59L10.3 9.45l-7.72 7.72c-.78.78-.78 2.05 0 2.83L4 21.41c.39.39.9.59 1.41.59.51 0 1.02-.2 1.41-.59l7.78-7.78 2.81-2.81c.8-.78.8-2.07 0-2.86zM5.41 20L4 18.59l7.72-7.72 1.47 1.35L5.41 20z\"/>\n",
              "  </svg>\n",
              "      </button>\n",
              "      \n",
              "  <style>\n",
              "    .colab-df-container {\n",
              "      display:flex;\n",
              "      flex-wrap:wrap;\n",
              "      gap: 12px;\n",
              "    }\n",
              "\n",
              "    .colab-df-convert {\n",
              "      background-color: #E8F0FE;\n",
              "      border: none;\n",
              "      border-radius: 50%;\n",
              "      cursor: pointer;\n",
              "      display: none;\n",
              "      fill: #1967D2;\n",
              "      height: 32px;\n",
              "      padding: 0 0 0 0;\n",
              "      width: 32px;\n",
              "    }\n",
              "\n",
              "    .colab-df-convert:hover {\n",
              "      background-color: #E2EBFA;\n",
              "      box-shadow: 0px 1px 2px rgba(60, 64, 67, 0.3), 0px 1px 3px 1px rgba(60, 64, 67, 0.15);\n",
              "      fill: #174EA6;\n",
              "    }\n",
              "\n",
              "    [theme=dark] .colab-df-convert {\n",
              "      background-color: #3B4455;\n",
              "      fill: #D2E3FC;\n",
              "    }\n",
              "\n",
              "    [theme=dark] .colab-df-convert:hover {\n",
              "      background-color: #434B5C;\n",
              "      box-shadow: 0px 1px 3px 1px rgba(0, 0, 0, 0.15);\n",
              "      filter: drop-shadow(0px 1px 2px rgba(0, 0, 0, 0.3));\n",
              "      fill: #FFFFFF;\n",
              "    }\n",
              "  </style>\n",
              "\n",
              "      <script>\n",
              "        const buttonEl =\n",
              "          document.querySelector('#df-b576e584-0ed1-4d73-8c07-c7f22d188fbe button.colab-df-convert');\n",
              "        buttonEl.style.display =\n",
              "          google.colab.kernel.accessAllowed ? 'block' : 'none';\n",
              "\n",
              "        async function convertToInteractive(key) {\n",
              "          const element = document.querySelector('#df-b576e584-0ed1-4d73-8c07-c7f22d188fbe');\n",
              "          const dataTable =\n",
              "            await google.colab.kernel.invokeFunction('convertToInteractive',\n",
              "                                                     [key], {});\n",
              "          if (!dataTable) return;\n",
              "\n",
              "          const docLinkHtml = 'Like what you see? Visit the ' +\n",
              "            '<a target=\"_blank\" href=https://colab.research.google.com/notebooks/data_table.ipynb>data table notebook</a>'\n",
              "            + ' to learn more about interactive tables.';\n",
              "          element.innerHTML = '';\n",
              "          dataTable['output_type'] = 'display_data';\n",
              "          await google.colab.output.renderOutput(dataTable, element);\n",
              "          const docLink = document.createElement('div');\n",
              "          docLink.innerHTML = docLinkHtml;\n",
              "          element.appendChild(docLink);\n",
              "        }\n",
              "      </script>\n",
              "    </div>\n",
              "  </div>\n",
              "  "
            ]
          },
          "metadata": {},
          "execution_count": 1267
        }
      ]
    },
    {
      "cell_type": "code",
      "source": [
        "offensivetweets=offensivedf.tweet.to_string()\n"
      ],
      "metadata": {
        "id": "S2Pt2VgHE52-"
      },
      "execution_count": 1268,
      "outputs": []
    },
    {
      "cell_type": "code",
      "source": [
        "offensivetweets = re.sub(\"[^A-Za-z\" \"]+\",\" \", offensivetweets).lower()\n",
        "offensivetweets = re.sub(\"[0-9\" \"]+\",\" \", offensivetweets)"
      ],
      "metadata": {
        "id": "9L38uToMHy_X"
      },
      "execution_count": 1269,
      "outputs": []
    },
    {
      "cell_type": "code",
      "source": [
        "offensivetweets = offensivetweets.split(\" \")"
      ],
      "metadata": {
        "id": "faPLcEI4IVWM"
      },
      "execution_count": 1270,
      "outputs": []
    },
    {
      "cell_type": "code",
      "source": [
        "hatespeachtweets=hatedf.tweet.to_string()\n"
      ],
      "metadata": {
        "id": "dNdWWLWfH65u"
      },
      "execution_count": 1271,
      "outputs": []
    },
    {
      "cell_type": "code",
      "source": [
        "hatespeachtweets = re.sub(\"[^A-Za-z\" \"]+\",\" \", hatespeachtweets).lower()\n",
        "hatespeachtweets = re.sub(\"[0-9\" \"]+\",\" \", hatespeachtweets)"
      ],
      "metadata": {
        "id": "x9P42W1MICoH"
      },
      "execution_count": 1272,
      "outputs": []
    },
    {
      "cell_type": "code",
      "source": [
        "hatespeachtweets = hatespeachtweets.split(\" \")"
      ],
      "metadata": {
        "id": "dzAJDU4HIIKW"
      },
      "execution_count": 1273,
      "outputs": []
    },
    {
      "cell_type": "code",
      "source": [
        "#hatespeachtweets"
      ],
      "metadata": {
        "id": "H9lDw3rIIbqm"
      },
      "execution_count": 1274,
      "outputs": []
    },
    {
      "cell_type": "code",
      "source": [
        "vectorizer = TfidfVectorizer()\n",
        "offensive = vectorizer.fit_transform(offensivetweets)"
      ],
      "metadata": {
        "id": "Dk69LO_AIc12"
      },
      "execution_count": 1275,
      "outputs": []
    },
    {
      "cell_type": "code",
      "source": [
        "with open(\"stop.txt\",\"r\") as sw:\n",
        "    stop_words = sw.read()"
      ],
      "metadata": {
        "id": "Ol0IDL26IpXc"
      },
      "execution_count": 1276,
      "outputs": []
    },
    {
      "cell_type": "code",
      "source": [
        "stop_words = stop_words.split(\"\\n\")"
      ],
      "metadata": {
        "id": "KlZ20utTIyN2"
      },
      "execution_count": 1277,
      "outputs": []
    },
    {
      "cell_type": "code",
      "source": [
        "stop_words.extend([\"rt\",\"a\"])"
      ],
      "metadata": {
        "id": "Hh4xzyOmJZPj"
      },
      "execution_count": 1278,
      "outputs": []
    },
    {
      "cell_type": "code",
      "source": [
        "offensivetweets = [w for w in offensivetweets if not w in stop_words]\n"
      ],
      "metadata": {
        "id": "r8b2cKqDI4EO"
      },
      "execution_count": 1279,
      "outputs": []
    },
    {
      "cell_type": "code",
      "source": [
        "offensivetweets = \" \".join(offensivetweets)"
      ],
      "metadata": {
        "id": "mCQOeI22I-6Y"
      },
      "execution_count": 1280,
      "outputs": []
    },
    {
      "cell_type": "code",
      "source": [
        "'''\n",
        "wordcloud_offensive = WordCloud(\n",
        "                      background_color='White',\n",
        "                      width=1800,\n",
        "                      height=1400\n",
        "                     ).generate(offensivetweets)'''"
      ],
      "metadata": {
        "colab": {
          "base_uri": "https://localhost:8080/",
          "height": 53
        },
        "id": "t8BlXj2GJCjG",
        "outputId": "805f89cf-2dcb-4976-a2d1-d0aa285b9ef5"
      },
      "execution_count": 1281,
      "outputs": [
        {
          "output_type": "execute_result",
          "data": {
            "text/plain": [
              "\"\\nwordcloud_offensive = WordCloud(\\n                      background_color='White',\\n                      width=1800,\\n                      height=1400\\n                     ).generate(offensivetweets)\""
            ],
            "application/vnd.google.colaboratory.intrinsic+json": {
              "type": "string"
            }
          },
          "metadata": {},
          "execution_count": 1281
        }
      ]
    },
    {
      "cell_type": "code",
      "source": [
        "#plt.imshow(wordcloud_offensive)"
      ],
      "metadata": {
        "id": "JT0roRiBJGMO"
      },
      "execution_count": 1282,
      "outputs": []
    },
    {
      "cell_type": "code",
      "source": [
        "offensivetweets = offensivetweets.split(\" \")"
      ],
      "metadata": {
        "id": "iLmi_p-cKVYW"
      },
      "execution_count": 1283,
      "outputs": []
    },
    {
      "cell_type": "code",
      "source": [
        "letter_counts = Counter(offensivetweets)\n",
        "letter_counts.pop('')\n"
      ],
      "metadata": {
        "colab": {
          "base_uri": "https://localhost:8080/"
        },
        "id": "FDTXs1c0JSy-",
        "outputId": "ad26717e-b46c-4d2b-ba3e-3527728dec47"
      },
      "execution_count": 1284,
      "outputs": [
        {
          "output_type": "execute_result",
          "data": {
            "text/plain": [
              "1"
            ]
          },
          "metadata": {},
          "execution_count": 1284
        }
      ]
    },
    {
      "cell_type": "code",
      "source": [
        "most_offensive = letter_counts.most_common(25)\n",
        "most_offensive"
      ],
      "metadata": {
        "colab": {
          "base_uri": "https://localhost:8080/"
        },
        "id": "Hhv6jRvvLrZ6",
        "outputId": "560d5798-ee98-4c15-b5de-32b55bbfd0da"
      },
      "execution_count": 1285,
      "outputs": [
        {
          "output_type": "execute_result",
          "data": {
            "text/plain": [
              "[('bitch', 4601),\n",
              " ('bitches', 1784),\n",
              " ('hoes', 1377),\n",
              " ('pussy', 1059),\n",
              " ('hoe', 1027),\n",
              " ('don', 714),\n",
              " ('fuck', 696),\n",
              " ('ass', 619),\n",
              " ('nigga', 524),\n",
              " ('ain', 505),\n",
              " ('shit', 440),\n",
              " ('niggas', 418),\n",
              " ('lol', 407),\n",
              " ('yo', 406),\n",
              " ('love', 364),\n",
              " ('bad', 347),\n",
              " ('http', 298),\n",
              " ('im', 282),\n",
              " ('hate', 282),\n",
              " ('ya', 240),\n",
              " ('fucking', 236),\n",
              " ('amp', 231),\n",
              " ('man', 222),\n",
              " ('good', 206),\n",
              " ('real', 204)]"
            ]
          },
          "metadata": {},
          "execution_count": 1285
        }
      ]
    },
    {
      "cell_type": "code",
      "source": [
        "hatespeachtweets = [w for w in hatespeachtweets if not w in stop_words]"
      ],
      "metadata": {
        "id": "2d9634NVNMVe"
      },
      "execution_count": 1286,
      "outputs": []
    },
    {
      "cell_type": "code",
      "source": [
        "letter_counts2 = Counter(hatespeachtweets)\n",
        "letter_counts2.pop('')"
      ],
      "metadata": {
        "colab": {
          "base_uri": "https://localhost:8080/"
        },
        "id": "437P_-uEJ2H-",
        "outputId": "0aa89d0d-0cbd-4beb-9cbd-42eae11829a6"
      },
      "execution_count": 1287,
      "outputs": [
        {
          "output_type": "execute_result",
          "data": {
            "text/plain": [
              "2"
            ]
          },
          "metadata": {},
          "execution_count": 1287
        }
      ]
    },
    {
      "cell_type": "code",
      "source": [
        "most_hate = letter_counts2.most_common(25)\n",
        "most_hate"
      ],
      "metadata": {
        "colab": {
          "base_uri": "https://localhost:8080/"
        },
        "id": "il0etE96Lqlg",
        "outputId": "95a4bf0f-fcdb-48e6-e9ed-3de22c741b25"
      },
      "execution_count": 1288,
      "outputs": [
        {
          "output_type": "execute_result",
          "data": {
            "text/plain": [
              "[('faggot', 102),\n",
              " ('bitch', 98),\n",
              " ('white', 75),\n",
              " ('fuck', 73),\n",
              " ('nigga', 60),\n",
              " ('ass', 54),\n",
              " ('trash', 54),\n",
              " ('fag', 51),\n",
              " ('niggas', 50),\n",
              " ('nigger', 48),\n",
              " ('fucking', 46),\n",
              " ('hate', 43),\n",
              " ('don', 39),\n",
              " ('people', 34),\n",
              " ('faggots', 31),\n",
              " ('bitches', 30),\n",
              " ('hoes', 29),\n",
              " ('http', 28),\n",
              " ('hoe', 25),\n",
              " ('shit', 23),\n",
              " ('fags', 22),\n",
              " ('black', 21),\n",
              " ('niggers', 20),\n",
              " ('stupid', 20),\n",
              " ('pussy', 19)]"
            ]
          },
          "metadata": {},
          "execution_count": 1288
        }
      ]
    },
    {
      "cell_type": "code",
      "source": [
        "def countOccurrences(str, word, listword):\n",
        "     \n",
        "    # split the string by spaces in a\n",
        "    a = str.split(\" \")\n",
        "    # search for pattern in a\n",
        "    count = 0\n",
        "    # for i in range(1000):\n",
        "    for i in range(0, len(a)):\n",
        "        \n",
        "        # if match found increase count\n",
        "        # print(a[i])\n",
        "      if (word == a[i]):\n",
        "          count = count + 1\n",
        "    if count > 0:\n",
        "      listword.append(1)\n",
        "    else:\n",
        "      listword.append(0)\n",
        "            \n",
        "    return count, listword"
      ],
      "metadata": {
        "id": "jJ75HOKAJ3fW"
      },
      "execution_count": 1289,
      "outputs": []
    },
    {
      "cell_type": "code",
      "source": [
        "bitch = []\n",
        "# for i in range(12):\n",
        "for i in range(24783):\n",
        "  count, bitch = countOccurrences(classdf.tweet[i],\"bitch\", bitch)\n",
        "  "
      ],
      "metadata": {
        "id": "I4HrpdgmKL3v"
      },
      "execution_count": 1290,
      "outputs": []
    },
    {
      "cell_type": "code",
      "source": [
        "bitches = []\n",
        "# for i in range(12):\n",
        "for i in range(24783):\n",
        "  count, bitches = countOccurrences(classdf.tweet[i],\"bitches\", bitches)\n",
        "  "
      ],
      "metadata": {
        "id": "ogpoddNSWjbn"
      },
      "execution_count": 1291,
      "outputs": []
    },
    {
      "cell_type": "code",
      "source": [
        "hoes = []\n",
        "# for i in range(12):\n",
        "for i in range(24783):\n",
        "  count, hoes = countOccurrences(classdf.tweet[i],\"hoes\", hoes)\n",
        "  "
      ],
      "metadata": {
        "id": "Nke-tdZNWoav"
      },
      "execution_count": 1292,
      "outputs": []
    },
    {
      "cell_type": "code",
      "source": [
        "pussy = []\n",
        "# for i in range(12):\n",
        "for i in range(24783):\n",
        "  count, pussy = countOccurrences(classdf.tweet[i],\"pussy\", pussy)\n",
        "  "
      ],
      "metadata": {
        "id": "512QBhUyWqZW"
      },
      "execution_count": 1293,
      "outputs": []
    },
    {
      "cell_type": "code",
      "source": [
        "hoe = []\n",
        "# for i in range(12):\n",
        "for i in range(24783):\n",
        "  count, hoe = countOccurrences(classdf.tweet[i],\"hoe\", hoe)\n",
        "  "
      ],
      "metadata": {
        "id": "9Fo9x3P1WrrX"
      },
      "execution_count": 1294,
      "outputs": []
    },
    {
      "cell_type": "code",
      "source": [
        "fuck = []\n",
        "# for i in range(12):\n",
        "for i in range(24783):\n",
        "  count, fuck = countOccurrences(classdf.tweet[i],\"fuck\", fuck)\n",
        "  "
      ],
      "metadata": {
        "id": "1XZURcjfWr72"
      },
      "execution_count": 1295,
      "outputs": []
    },
    {
      "cell_type": "code",
      "source": [
        "ass = []\n",
        "# for i in range(12):\n",
        "for i in range(24783):\n",
        "  count, ass = countOccurrences(classdf.tweet[i],\"ass\", ass)"
      ],
      "metadata": {
        "id": "ftdHXqDuNzjb"
      },
      "execution_count": 1296,
      "outputs": []
    },
    {
      "cell_type": "code",
      "source": [
        "nigga = []\n",
        "# for i in range(12):\n",
        "for i in range(24783):\n",
        "  count, nigga = countOccurrences(classdf.tweet[i],\"nigga\", nigga)"
      ],
      "metadata": {
        "id": "FWMo146cNzl_"
      },
      "execution_count": 1297,
      "outputs": []
    },
    {
      "cell_type": "code",
      "source": [
        "shit = []\n",
        "# for i in range(12):\n",
        "for i in range(24783):\n",
        "  count, shit = countOccurrences(classdf.tweet[i],\"shit\", shit)"
      ],
      "metadata": {
        "id": "d9UlVUdENzop"
      },
      "execution_count": 1298,
      "outputs": []
    },
    {
      "cell_type": "code",
      "source": [
        "niggas = []\n",
        "# for i in range(12):\n",
        "for i in range(24783):\n",
        "  count, niggas = countOccurrences(classdf.tweet[i],\"niggas\", niggas)"
      ],
      "metadata": {
        "id": "bzUXFqVrNzxO"
      },
      "execution_count": 1299,
      "outputs": []
    },
    {
      "cell_type": "code",
      "source": [
        "nigger = []\n",
        "# for i in range(12):\n",
        "for i in range(24783):\n",
        "  count, nigger = countOccurrences(classdf.tweet[i],\"nigger\", nigger)"
      ],
      "metadata": {
        "id": "IZ7xS0sMkyO_"
      },
      "execution_count": 1300,
      "outputs": []
    },
    {
      "cell_type": "code",
      "source": [
        "#create a new dataframe counting each frequent word for each tweet(row)\n",
        "#most frequent word= column"
      ],
      "metadata": {
        "id": "xIGzeNVyLNxO"
      },
      "execution_count": 1301,
      "outputs": []
    },
    {
      "cell_type": "code",
      "source": [
        "encodedDf = pd.DataFrame(bitch)"
      ],
      "metadata": {
        "id": "mNLPzASJR46p"
      },
      "execution_count": 1302,
      "outputs": []
    },
    {
      "cell_type": "code",
      "source": [
        "encodedDf"
      ],
      "metadata": {
        "id": "PbrxK0ZJSdN4",
        "outputId": "e9995041-9fec-4a56-d4dd-53b2e3e45108",
        "colab": {
          "base_uri": "https://localhost:8080/",
          "height": 424
        }
      },
      "execution_count": 1303,
      "outputs": [
        {
          "output_type": "execute_result",
          "data": {
            "text/plain": [
              "       0\n",
              "0      0\n",
              "1      0\n",
              "2      1\n",
              "3      0\n",
              "4      1\n",
              "...   ..\n",
              "24778  0\n",
              "24779  0\n",
              "24780  0\n",
              "24781  0\n",
              "24782  0\n",
              "\n",
              "[24783 rows x 1 columns]"
            ],
            "text/html": [
              "\n",
              "  <div id=\"df-c1f87ab1-b0b1-49bb-b436-064fe983b75d\">\n",
              "    <div class=\"colab-df-container\">\n",
              "      <div>\n",
              "<style scoped>\n",
              "    .dataframe tbody tr th:only-of-type {\n",
              "        vertical-align: middle;\n",
              "    }\n",
              "\n",
              "    .dataframe tbody tr th {\n",
              "        vertical-align: top;\n",
              "    }\n",
              "\n",
              "    .dataframe thead th {\n",
              "        text-align: right;\n",
              "    }\n",
              "</style>\n",
              "<table border=\"1\" class=\"dataframe\">\n",
              "  <thead>\n",
              "    <tr style=\"text-align: right;\">\n",
              "      <th></th>\n",
              "      <th>0</th>\n",
              "    </tr>\n",
              "  </thead>\n",
              "  <tbody>\n",
              "    <tr>\n",
              "      <th>0</th>\n",
              "      <td>0</td>\n",
              "    </tr>\n",
              "    <tr>\n",
              "      <th>1</th>\n",
              "      <td>0</td>\n",
              "    </tr>\n",
              "    <tr>\n",
              "      <th>2</th>\n",
              "      <td>1</td>\n",
              "    </tr>\n",
              "    <tr>\n",
              "      <th>3</th>\n",
              "      <td>0</td>\n",
              "    </tr>\n",
              "    <tr>\n",
              "      <th>4</th>\n",
              "      <td>1</td>\n",
              "    </tr>\n",
              "    <tr>\n",
              "      <th>...</th>\n",
              "      <td>...</td>\n",
              "    </tr>\n",
              "    <tr>\n",
              "      <th>24778</th>\n",
              "      <td>0</td>\n",
              "    </tr>\n",
              "    <tr>\n",
              "      <th>24779</th>\n",
              "      <td>0</td>\n",
              "    </tr>\n",
              "    <tr>\n",
              "      <th>24780</th>\n",
              "      <td>0</td>\n",
              "    </tr>\n",
              "    <tr>\n",
              "      <th>24781</th>\n",
              "      <td>0</td>\n",
              "    </tr>\n",
              "    <tr>\n",
              "      <th>24782</th>\n",
              "      <td>0</td>\n",
              "    </tr>\n",
              "  </tbody>\n",
              "</table>\n",
              "<p>24783 rows × 1 columns</p>\n",
              "</div>\n",
              "      <button class=\"colab-df-convert\" onclick=\"convertToInteractive('df-c1f87ab1-b0b1-49bb-b436-064fe983b75d')\"\n",
              "              title=\"Convert this dataframe to an interactive table.\"\n",
              "              style=\"display:none;\">\n",
              "        \n",
              "  <svg xmlns=\"http://www.w3.org/2000/svg\" height=\"24px\"viewBox=\"0 0 24 24\"\n",
              "       width=\"24px\">\n",
              "    <path d=\"M0 0h24v24H0V0z\" fill=\"none\"/>\n",
              "    <path d=\"M18.56 5.44l.94 2.06.94-2.06 2.06-.94-2.06-.94-.94-2.06-.94 2.06-2.06.94zm-11 1L8.5 8.5l.94-2.06 2.06-.94-2.06-.94L8.5 2.5l-.94 2.06-2.06.94zm10 10l.94 2.06.94-2.06 2.06-.94-2.06-.94-.94-2.06-.94 2.06-2.06.94z\"/><path d=\"M17.41 7.96l-1.37-1.37c-.4-.4-.92-.59-1.43-.59-.52 0-1.04.2-1.43.59L10.3 9.45l-7.72 7.72c-.78.78-.78 2.05 0 2.83L4 21.41c.39.39.9.59 1.41.59.51 0 1.02-.2 1.41-.59l7.78-7.78 2.81-2.81c.8-.78.8-2.07 0-2.86zM5.41 20L4 18.59l7.72-7.72 1.47 1.35L5.41 20z\"/>\n",
              "  </svg>\n",
              "      </button>\n",
              "      \n",
              "  <style>\n",
              "    .colab-df-container {\n",
              "      display:flex;\n",
              "      flex-wrap:wrap;\n",
              "      gap: 12px;\n",
              "    }\n",
              "\n",
              "    .colab-df-convert {\n",
              "      background-color: #E8F0FE;\n",
              "      border: none;\n",
              "      border-radius: 50%;\n",
              "      cursor: pointer;\n",
              "      display: none;\n",
              "      fill: #1967D2;\n",
              "      height: 32px;\n",
              "      padding: 0 0 0 0;\n",
              "      width: 32px;\n",
              "    }\n",
              "\n",
              "    .colab-df-convert:hover {\n",
              "      background-color: #E2EBFA;\n",
              "      box-shadow: 0px 1px 2px rgba(60, 64, 67, 0.3), 0px 1px 3px 1px rgba(60, 64, 67, 0.15);\n",
              "      fill: #174EA6;\n",
              "    }\n",
              "\n",
              "    [theme=dark] .colab-df-convert {\n",
              "      background-color: #3B4455;\n",
              "      fill: #D2E3FC;\n",
              "    }\n",
              "\n",
              "    [theme=dark] .colab-df-convert:hover {\n",
              "      background-color: #434B5C;\n",
              "      box-shadow: 0px 1px 3px 1px rgba(0, 0, 0, 0.15);\n",
              "      filter: drop-shadow(0px 1px 2px rgba(0, 0, 0, 0.3));\n",
              "      fill: #FFFFFF;\n",
              "    }\n",
              "  </style>\n",
              "\n",
              "      <script>\n",
              "        const buttonEl =\n",
              "          document.querySelector('#df-c1f87ab1-b0b1-49bb-b436-064fe983b75d button.colab-df-convert');\n",
              "        buttonEl.style.display =\n",
              "          google.colab.kernel.accessAllowed ? 'block' : 'none';\n",
              "\n",
              "        async function convertToInteractive(key) {\n",
              "          const element = document.querySelector('#df-c1f87ab1-b0b1-49bb-b436-064fe983b75d');\n",
              "          const dataTable =\n",
              "            await google.colab.kernel.invokeFunction('convertToInteractive',\n",
              "                                                     [key], {});\n",
              "          if (!dataTable) return;\n",
              "\n",
              "          const docLinkHtml = 'Like what you see? Visit the ' +\n",
              "            '<a target=\"_blank\" href=https://colab.research.google.com/notebooks/data_table.ipynb>data table notebook</a>'\n",
              "            + ' to learn more about interactive tables.';\n",
              "          element.innerHTML = '';\n",
              "          dataTable['output_type'] = 'display_data';\n",
              "          await google.colab.output.renderOutput(dataTable, element);\n",
              "          const docLink = document.createElement('div');\n",
              "          docLink.innerHTML = docLinkHtml;\n",
              "          element.appendChild(docLink);\n",
              "        }\n",
              "      </script>\n",
              "    </div>\n",
              "  </div>\n",
              "  "
            ]
          },
          "metadata": {},
          "execution_count": 1303
        }
      ]
    },
    {
      "cell_type": "code",
      "source": [
        "encodedDf.rename(columns = {0:\"Bitch\"},inplace=True)"
      ],
      "metadata": {
        "id": "AzdVfzKQXVzG"
      },
      "execution_count": 1304,
      "outputs": []
    },
    {
      "cell_type": "code",
      "source": [
        "encodedDf[\"Bitches\"] = bitches"
      ],
      "metadata": {
        "id": "yCL-YQmcZdSy"
      },
      "execution_count": 1305,
      "outputs": []
    },
    {
      "cell_type": "code",
      "source": [
        "encodedDf[\"Hoes\"] = hoes"
      ],
      "metadata": {
        "id": "7UcmbJaAaYeE"
      },
      "execution_count": 1306,
      "outputs": []
    },
    {
      "cell_type": "code",
      "source": [
        "encodedDf[\"Pussy\"] = pussy"
      ],
      "metadata": {
        "id": "kUVgomPGabPF"
      },
      "execution_count": 1307,
      "outputs": []
    },
    {
      "cell_type": "code",
      "source": [
        "encodedDf[\"Hoe\"] = hoe"
      ],
      "metadata": {
        "id": "YJ8KDI4Lae_V"
      },
      "execution_count": 1308,
      "outputs": []
    },
    {
      "cell_type": "code",
      "source": [
        "encodedDf[\"Fuck\"] = fuck"
      ],
      "metadata": {
        "id": "yiw40q2najfF"
      },
      "execution_count": 1309,
      "outputs": []
    },
    {
      "cell_type": "code",
      "source": [
        "encodedDf[\"Ass\"] = ass"
      ],
      "metadata": {
        "id": "gjJBS18YNV9_"
      },
      "execution_count": 1310,
      "outputs": []
    },
    {
      "cell_type": "code",
      "source": [
        "encodedDf[\"Nigga\"] = nigga"
      ],
      "metadata": {
        "id": "5PKJ7klzNWAr"
      },
      "execution_count": 1311,
      "outputs": []
    },
    {
      "cell_type": "code",
      "source": [
        "encodedDf[\"Shit\"] = shit"
      ],
      "metadata": {
        "id": "7MebKZErNWDb"
      },
      "execution_count": 1312,
      "outputs": []
    },
    {
      "cell_type": "code",
      "source": [
        "encodedDf[\"Niggas\"] = niggas"
      ],
      "metadata": {
        "id": "hdXTctPkNWF1"
      },
      "execution_count": 1313,
      "outputs": []
    },
    {
      "cell_type": "code",
      "source": [
        "encodedDf[\"Nigger\"] = nigger"
      ],
      "metadata": {
        "id": "iA81PAtUk5Px"
      },
      "execution_count": 1314,
      "outputs": []
    },
    {
      "cell_type": "code",
      "source": [
        ""
      ],
      "metadata": {
        "id": "-vjZr2FgNWJY"
      },
      "execution_count": 1314,
      "outputs": []
    },
    {
      "cell_type": "code",
      "source": [
        "encodedDf"
      ],
      "metadata": {
        "id": "1CeYmduJaoml",
        "outputId": "f4fea023-668a-4e34-c5ca-1df2b8ea0eb2",
        "colab": {
          "base_uri": "https://localhost:8080/",
          "height": 424
        }
      },
      "execution_count": 1315,
      "outputs": [
        {
          "output_type": "execute_result",
          "data": {
            "text/plain": [
              "       Bitch  Bitches  Hoes  Pussy  Hoe  Fuck  Ass  Nigga  Shit  Niggas  \\\n",
              "0          0        0     0      0    0     0    0      0     0       0   \n",
              "1          0        0     0      0    1     0    0      0     0       0   \n",
              "2          1        0     0      0    0     1    0      0     1       0   \n",
              "3          0        0     0      0    0     0    0      0     0       0   \n",
              "4          1        0     0      0    0     0    0      0     1       0   \n",
              "...      ...      ...   ...    ...  ...   ...  ...    ...   ...     ...   \n",
              "24778      0        0     0      0    0     0    0      0     0       0   \n",
              "24779      0        0     0      0    0     0    0      0     0       0   \n",
              "24780      0        0     0      0    0     0    0      0     0       0   \n",
              "24781      0        1     0      0    0     0    0      0     0       0   \n",
              "24782      0        0     0      0    0     0    0      0     0       0   \n",
              "\n",
              "       Nigger  \n",
              "0           0  \n",
              "1           0  \n",
              "2           0  \n",
              "3           0  \n",
              "4           0  \n",
              "...       ...  \n",
              "24778       0  \n",
              "24779       0  \n",
              "24780       0  \n",
              "24781       0  \n",
              "24782       0  \n",
              "\n",
              "[24783 rows x 11 columns]"
            ],
            "text/html": [
              "\n",
              "  <div id=\"df-59564bcc-3cfa-43b5-85a5-9fc24c4187f1\">\n",
              "    <div class=\"colab-df-container\">\n",
              "      <div>\n",
              "<style scoped>\n",
              "    .dataframe tbody tr th:only-of-type {\n",
              "        vertical-align: middle;\n",
              "    }\n",
              "\n",
              "    .dataframe tbody tr th {\n",
              "        vertical-align: top;\n",
              "    }\n",
              "\n",
              "    .dataframe thead th {\n",
              "        text-align: right;\n",
              "    }\n",
              "</style>\n",
              "<table border=\"1\" class=\"dataframe\">\n",
              "  <thead>\n",
              "    <tr style=\"text-align: right;\">\n",
              "      <th></th>\n",
              "      <th>Bitch</th>\n",
              "      <th>Bitches</th>\n",
              "      <th>Hoes</th>\n",
              "      <th>Pussy</th>\n",
              "      <th>Hoe</th>\n",
              "      <th>Fuck</th>\n",
              "      <th>Ass</th>\n",
              "      <th>Nigga</th>\n",
              "      <th>Shit</th>\n",
              "      <th>Niggas</th>\n",
              "      <th>Nigger</th>\n",
              "    </tr>\n",
              "  </thead>\n",
              "  <tbody>\n",
              "    <tr>\n",
              "      <th>0</th>\n",
              "      <td>0</td>\n",
              "      <td>0</td>\n",
              "      <td>0</td>\n",
              "      <td>0</td>\n",
              "      <td>0</td>\n",
              "      <td>0</td>\n",
              "      <td>0</td>\n",
              "      <td>0</td>\n",
              "      <td>0</td>\n",
              "      <td>0</td>\n",
              "      <td>0</td>\n",
              "    </tr>\n",
              "    <tr>\n",
              "      <th>1</th>\n",
              "      <td>0</td>\n",
              "      <td>0</td>\n",
              "      <td>0</td>\n",
              "      <td>0</td>\n",
              "      <td>1</td>\n",
              "      <td>0</td>\n",
              "      <td>0</td>\n",
              "      <td>0</td>\n",
              "      <td>0</td>\n",
              "      <td>0</td>\n",
              "      <td>0</td>\n",
              "    </tr>\n",
              "    <tr>\n",
              "      <th>2</th>\n",
              "      <td>1</td>\n",
              "      <td>0</td>\n",
              "      <td>0</td>\n",
              "      <td>0</td>\n",
              "      <td>0</td>\n",
              "      <td>1</td>\n",
              "      <td>0</td>\n",
              "      <td>0</td>\n",
              "      <td>1</td>\n",
              "      <td>0</td>\n",
              "      <td>0</td>\n",
              "    </tr>\n",
              "    <tr>\n",
              "      <th>3</th>\n",
              "      <td>0</td>\n",
              "      <td>0</td>\n",
              "      <td>0</td>\n",
              "      <td>0</td>\n",
              "      <td>0</td>\n",
              "      <td>0</td>\n",
              "      <td>0</td>\n",
              "      <td>0</td>\n",
              "      <td>0</td>\n",
              "      <td>0</td>\n",
              "      <td>0</td>\n",
              "    </tr>\n",
              "    <tr>\n",
              "      <th>4</th>\n",
              "      <td>1</td>\n",
              "      <td>0</td>\n",
              "      <td>0</td>\n",
              "      <td>0</td>\n",
              "      <td>0</td>\n",
              "      <td>0</td>\n",
              "      <td>0</td>\n",
              "      <td>0</td>\n",
              "      <td>1</td>\n",
              "      <td>0</td>\n",
              "      <td>0</td>\n",
              "    </tr>\n",
              "    <tr>\n",
              "      <th>...</th>\n",
              "      <td>...</td>\n",
              "      <td>...</td>\n",
              "      <td>...</td>\n",
              "      <td>...</td>\n",
              "      <td>...</td>\n",
              "      <td>...</td>\n",
              "      <td>...</td>\n",
              "      <td>...</td>\n",
              "      <td>...</td>\n",
              "      <td>...</td>\n",
              "      <td>...</td>\n",
              "    </tr>\n",
              "    <tr>\n",
              "      <th>24778</th>\n",
              "      <td>0</td>\n",
              "      <td>0</td>\n",
              "      <td>0</td>\n",
              "      <td>0</td>\n",
              "      <td>0</td>\n",
              "      <td>0</td>\n",
              "      <td>0</td>\n",
              "      <td>0</td>\n",
              "      <td>0</td>\n",
              "      <td>0</td>\n",
              "      <td>0</td>\n",
              "    </tr>\n",
              "    <tr>\n",
              "      <th>24779</th>\n",
              "      <td>0</td>\n",
              "      <td>0</td>\n",
              "      <td>0</td>\n",
              "      <td>0</td>\n",
              "      <td>0</td>\n",
              "      <td>0</td>\n",
              "      <td>0</td>\n",
              "      <td>0</td>\n",
              "      <td>0</td>\n",
              "      <td>0</td>\n",
              "      <td>0</td>\n",
              "    </tr>\n",
              "    <tr>\n",
              "      <th>24780</th>\n",
              "      <td>0</td>\n",
              "      <td>0</td>\n",
              "      <td>0</td>\n",
              "      <td>0</td>\n",
              "      <td>0</td>\n",
              "      <td>0</td>\n",
              "      <td>0</td>\n",
              "      <td>0</td>\n",
              "      <td>0</td>\n",
              "      <td>0</td>\n",
              "      <td>0</td>\n",
              "    </tr>\n",
              "    <tr>\n",
              "      <th>24781</th>\n",
              "      <td>0</td>\n",
              "      <td>1</td>\n",
              "      <td>0</td>\n",
              "      <td>0</td>\n",
              "      <td>0</td>\n",
              "      <td>0</td>\n",
              "      <td>0</td>\n",
              "      <td>0</td>\n",
              "      <td>0</td>\n",
              "      <td>0</td>\n",
              "      <td>0</td>\n",
              "    </tr>\n",
              "    <tr>\n",
              "      <th>24782</th>\n",
              "      <td>0</td>\n",
              "      <td>0</td>\n",
              "      <td>0</td>\n",
              "      <td>0</td>\n",
              "      <td>0</td>\n",
              "      <td>0</td>\n",
              "      <td>0</td>\n",
              "      <td>0</td>\n",
              "      <td>0</td>\n",
              "      <td>0</td>\n",
              "      <td>0</td>\n",
              "    </tr>\n",
              "  </tbody>\n",
              "</table>\n",
              "<p>24783 rows × 11 columns</p>\n",
              "</div>\n",
              "      <button class=\"colab-df-convert\" onclick=\"convertToInteractive('df-59564bcc-3cfa-43b5-85a5-9fc24c4187f1')\"\n",
              "              title=\"Convert this dataframe to an interactive table.\"\n",
              "              style=\"display:none;\">\n",
              "        \n",
              "  <svg xmlns=\"http://www.w3.org/2000/svg\" height=\"24px\"viewBox=\"0 0 24 24\"\n",
              "       width=\"24px\">\n",
              "    <path d=\"M0 0h24v24H0V0z\" fill=\"none\"/>\n",
              "    <path d=\"M18.56 5.44l.94 2.06.94-2.06 2.06-.94-2.06-.94-.94-2.06-.94 2.06-2.06.94zm-11 1L8.5 8.5l.94-2.06 2.06-.94-2.06-.94L8.5 2.5l-.94 2.06-2.06.94zm10 10l.94 2.06.94-2.06 2.06-.94-2.06-.94-.94-2.06-.94 2.06-2.06.94z\"/><path d=\"M17.41 7.96l-1.37-1.37c-.4-.4-.92-.59-1.43-.59-.52 0-1.04.2-1.43.59L10.3 9.45l-7.72 7.72c-.78.78-.78 2.05 0 2.83L4 21.41c.39.39.9.59 1.41.59.51 0 1.02-.2 1.41-.59l7.78-7.78 2.81-2.81c.8-.78.8-2.07 0-2.86zM5.41 20L4 18.59l7.72-7.72 1.47 1.35L5.41 20z\"/>\n",
              "  </svg>\n",
              "      </button>\n",
              "      \n",
              "  <style>\n",
              "    .colab-df-container {\n",
              "      display:flex;\n",
              "      flex-wrap:wrap;\n",
              "      gap: 12px;\n",
              "    }\n",
              "\n",
              "    .colab-df-convert {\n",
              "      background-color: #E8F0FE;\n",
              "      border: none;\n",
              "      border-radius: 50%;\n",
              "      cursor: pointer;\n",
              "      display: none;\n",
              "      fill: #1967D2;\n",
              "      height: 32px;\n",
              "      padding: 0 0 0 0;\n",
              "      width: 32px;\n",
              "    }\n",
              "\n",
              "    .colab-df-convert:hover {\n",
              "      background-color: #E2EBFA;\n",
              "      box-shadow: 0px 1px 2px rgba(60, 64, 67, 0.3), 0px 1px 3px 1px rgba(60, 64, 67, 0.15);\n",
              "      fill: #174EA6;\n",
              "    }\n",
              "\n",
              "    [theme=dark] .colab-df-convert {\n",
              "      background-color: #3B4455;\n",
              "      fill: #D2E3FC;\n",
              "    }\n",
              "\n",
              "    [theme=dark] .colab-df-convert:hover {\n",
              "      background-color: #434B5C;\n",
              "      box-shadow: 0px 1px 3px 1px rgba(0, 0, 0, 0.15);\n",
              "      filter: drop-shadow(0px 1px 2px rgba(0, 0, 0, 0.3));\n",
              "      fill: #FFFFFF;\n",
              "    }\n",
              "  </style>\n",
              "\n",
              "      <script>\n",
              "        const buttonEl =\n",
              "          document.querySelector('#df-59564bcc-3cfa-43b5-85a5-9fc24c4187f1 button.colab-df-convert');\n",
              "        buttonEl.style.display =\n",
              "          google.colab.kernel.accessAllowed ? 'block' : 'none';\n",
              "\n",
              "        async function convertToInteractive(key) {\n",
              "          const element = document.querySelector('#df-59564bcc-3cfa-43b5-85a5-9fc24c4187f1');\n",
              "          const dataTable =\n",
              "            await google.colab.kernel.invokeFunction('convertToInteractive',\n",
              "                                                     [key], {});\n",
              "          if (!dataTable) return;\n",
              "\n",
              "          const docLinkHtml = 'Like what you see? Visit the ' +\n",
              "            '<a target=\"_blank\" href=https://colab.research.google.com/notebooks/data_table.ipynb>data table notebook</a>'\n",
              "            + ' to learn more about interactive tables.';\n",
              "          element.innerHTML = '';\n",
              "          dataTable['output_type'] = 'display_data';\n",
              "          await google.colab.output.renderOutput(dataTable, element);\n",
              "          const docLink = document.createElement('div');\n",
              "          docLink.innerHTML = docLinkHtml;\n",
              "          element.appendChild(docLink);\n",
              "        }\n",
              "      </script>\n",
              "    </div>\n",
              "  </div>\n",
              "  "
            ]
          },
          "metadata": {},
          "execution_count": 1315
        }
      ]
    },
    {
      "cell_type": "code",
      "source": [
        ""
      ],
      "metadata": {
        "id": "nfJkzkroapTs"
      },
      "execution_count": 1315,
      "outputs": []
    },
    {
      "cell_type": "code",
      "source": [
        ""
      ],
      "metadata": {
        "id": "tqxATyaKdn2P"
      },
      "execution_count": 1315,
      "outputs": []
    },
    {
      "cell_type": "code",
      "source": [
        "faggot = []\n",
        "for i in range(24783):\n",
        "  count, faggot = countOccurrences(classdf.tweet[i],\"faggot\", faggot)\n",
        "  "
      ],
      "metadata": {
        "id": "5EVRcNh1dpi2"
      },
      "execution_count": 1316,
      "outputs": []
    },
    {
      "cell_type": "code",
      "source": [
        "bitch = []\n",
        "for i in range(24783):\n",
        "  count, bitch = countOccurrences(classdf.tweet[i],\"bitch\", bitch)"
      ],
      "metadata": {
        "id": "3AN1WFIKeP1P"
      },
      "execution_count": 1317,
      "outputs": []
    },
    {
      "cell_type": "code",
      "source": [
        "fuck = []\n",
        "for i in range(24783):\n",
        "  count, fuck = countOccurrences(classdf.tweet[i],\"fuck\", fuck)"
      ],
      "metadata": {
        "id": "UKQljaJ1e5kg"
      },
      "execution_count": 1318,
      "outputs": []
    },
    {
      "cell_type": "code",
      "source": [
        "nigga = []\n",
        "for i in range(24783):\n",
        "  count, nigga = countOccurrences(classdf.tweet[i],\"nigga\", nigga)"
      ],
      "metadata": {
        "id": "-_q2_gAmfB00"
      },
      "execution_count": 1319,
      "outputs": []
    },
    {
      "cell_type": "code",
      "source": [
        "ass = []\n",
        "for i in range(24783):\n",
        "  count, ass = countOccurrences(classdf.tweet[i],\"ass\", ass)"
      ],
      "metadata": {
        "id": "-MGR4LDufB30"
      },
      "execution_count": 1320,
      "outputs": []
    },
    {
      "cell_type": "code",
      "source": [
        "fag = []\n",
        "for i in range(24783):\n",
        "  count, fag = countOccurrences(classdf.tweet[i],\"fag\", fag)"
      ],
      "metadata": {
        "id": "fS0JMZDXfB6q"
      },
      "execution_count": 1321,
      "outputs": []
    },
    {
      "cell_type": "code",
      "source": [
        "niggas = []\n",
        "for i in range(24783):\n",
        "  count, niggas = countOccurrences(classdf.tweet[i],\"niggas\", niggas)"
      ],
      "metadata": {
        "id": "ys_etTvdfB97"
      },
      "execution_count": 1322,
      "outputs": []
    },
    {
      "cell_type": "code",
      "source": [
        "fucking = []\n",
        "for i in range(24783):\n",
        "  count, fucking = countOccurrences(classdf.tweet[i],\"fucking\", fucking)"
      ],
      "metadata": {
        "id": "rwunwS1rfqo3"
      },
      "execution_count": 1323,
      "outputs": []
    },
    {
      "cell_type": "code",
      "source": [
        "faggots = []\n",
        "for i in range(24783):\n",
        "  count, faggots = countOccurrences(classdf.tweet[i],\"faggots\", faggots)"
      ],
      "metadata": {
        "id": "0lzH18qjfqrN"
      },
      "execution_count": 1324,
      "outputs": []
    },
    {
      "cell_type": "code",
      "source": [
        "white = []\n",
        "for i in range(24783):\n",
        "  count, white = countOccurrences(classdf.tweet[i],\"white\", white)"
      ],
      "metadata": {
        "id": "Nd--ZfUuvopf"
      },
      "execution_count": 1325,
      "outputs": []
    },
    {
      "cell_type": "code",
      "source": [
        "trash = []\n",
        "for i in range(24783):\n",
        "  count, trash = countOccurrences(classdf.tweet[i],\"trash\", trash)"
      ],
      "metadata": {
        "id": "zIFlkaAzwetq"
      },
      "execution_count": 1326,
      "outputs": []
    },
    {
      "cell_type": "code",
      "source": [
        "love = []\n",
        "for i in range(24783):\n",
        "  count, love = countOccurrences(classdf.tweet[i],\"love\", love)"
      ],
      "metadata": {
        "id": "M5uE_SxhxF1-"
      },
      "execution_count": 1327,
      "outputs": []
    },
    {
      "cell_type": "code",
      "source": [
        "real = []\n",
        "for i in range(24783):\n",
        "  count, real = countOccurrences(classdf.tweet[i],\"real\", real)"
      ],
      "metadata": {
        "id": "wWJTdtCMyHq-"
      },
      "execution_count": 1328,
      "outputs": []
    },
    {
      "cell_type": "code",
      "source": [
        "good = []\n",
        "for i in range(24783):\n",
        "  count, good = countOccurrences(classdf.tweet[i],\"good\", good)"
      ],
      "metadata": {
        "id": "7WozJj3FyKH5"
      },
      "execution_count": 1329,
      "outputs": []
    },
    {
      "cell_type": "code",
      "source": [
        "black = []\n",
        "for i in range(24783):\n",
        "  count, black = countOccurrences(classdf.tweet[i],\"black\", black)"
      ],
      "metadata": {
        "id": "8uPp8bo6yiA5"
      },
      "execution_count": 1330,
      "outputs": []
    },
    {
      "cell_type": "code",
      "source": [
        "\n",
        "encodedHateDF = pd.DataFrame(faggot)"
      ],
      "metadata": {
        "id": "GVExUEvWfqun"
      },
      "execution_count": 1331,
      "outputs": []
    },
    {
      "cell_type": "code",
      "source": [
        "encodedHateDF"
      ],
      "metadata": {
        "id": "LCbzw4npgltW",
        "outputId": "a7fd67c7-3cdd-4025-c472-fadfd60bae71",
        "colab": {
          "base_uri": "https://localhost:8080/",
          "height": 424
        }
      },
      "execution_count": 1332,
      "outputs": [
        {
          "output_type": "execute_result",
          "data": {
            "text/plain": [
              "       0\n",
              "0      0\n",
              "1      0\n",
              "2      0\n",
              "3      0\n",
              "4      0\n",
              "...   ..\n",
              "24778  0\n",
              "24779  0\n",
              "24780  0\n",
              "24781  0\n",
              "24782  0\n",
              "\n",
              "[24783 rows x 1 columns]"
            ],
            "text/html": [
              "\n",
              "  <div id=\"df-54d77696-7e35-497b-8b95-f8e6077c0bba\">\n",
              "    <div class=\"colab-df-container\">\n",
              "      <div>\n",
              "<style scoped>\n",
              "    .dataframe tbody tr th:only-of-type {\n",
              "        vertical-align: middle;\n",
              "    }\n",
              "\n",
              "    .dataframe tbody tr th {\n",
              "        vertical-align: top;\n",
              "    }\n",
              "\n",
              "    .dataframe thead th {\n",
              "        text-align: right;\n",
              "    }\n",
              "</style>\n",
              "<table border=\"1\" class=\"dataframe\">\n",
              "  <thead>\n",
              "    <tr style=\"text-align: right;\">\n",
              "      <th></th>\n",
              "      <th>0</th>\n",
              "    </tr>\n",
              "  </thead>\n",
              "  <tbody>\n",
              "    <tr>\n",
              "      <th>0</th>\n",
              "      <td>0</td>\n",
              "    </tr>\n",
              "    <tr>\n",
              "      <th>1</th>\n",
              "      <td>0</td>\n",
              "    </tr>\n",
              "    <tr>\n",
              "      <th>2</th>\n",
              "      <td>0</td>\n",
              "    </tr>\n",
              "    <tr>\n",
              "      <th>3</th>\n",
              "      <td>0</td>\n",
              "    </tr>\n",
              "    <tr>\n",
              "      <th>4</th>\n",
              "      <td>0</td>\n",
              "    </tr>\n",
              "    <tr>\n",
              "      <th>...</th>\n",
              "      <td>...</td>\n",
              "    </tr>\n",
              "    <tr>\n",
              "      <th>24778</th>\n",
              "      <td>0</td>\n",
              "    </tr>\n",
              "    <tr>\n",
              "      <th>24779</th>\n",
              "      <td>0</td>\n",
              "    </tr>\n",
              "    <tr>\n",
              "      <th>24780</th>\n",
              "      <td>0</td>\n",
              "    </tr>\n",
              "    <tr>\n",
              "      <th>24781</th>\n",
              "      <td>0</td>\n",
              "    </tr>\n",
              "    <tr>\n",
              "      <th>24782</th>\n",
              "      <td>0</td>\n",
              "    </tr>\n",
              "  </tbody>\n",
              "</table>\n",
              "<p>24783 rows × 1 columns</p>\n",
              "</div>\n",
              "      <button class=\"colab-df-convert\" onclick=\"convertToInteractive('df-54d77696-7e35-497b-8b95-f8e6077c0bba')\"\n",
              "              title=\"Convert this dataframe to an interactive table.\"\n",
              "              style=\"display:none;\">\n",
              "        \n",
              "  <svg xmlns=\"http://www.w3.org/2000/svg\" height=\"24px\"viewBox=\"0 0 24 24\"\n",
              "       width=\"24px\">\n",
              "    <path d=\"M0 0h24v24H0V0z\" fill=\"none\"/>\n",
              "    <path d=\"M18.56 5.44l.94 2.06.94-2.06 2.06-.94-2.06-.94-.94-2.06-.94 2.06-2.06.94zm-11 1L8.5 8.5l.94-2.06 2.06-.94-2.06-.94L8.5 2.5l-.94 2.06-2.06.94zm10 10l.94 2.06.94-2.06 2.06-.94-2.06-.94-.94-2.06-.94 2.06-2.06.94z\"/><path d=\"M17.41 7.96l-1.37-1.37c-.4-.4-.92-.59-1.43-.59-.52 0-1.04.2-1.43.59L10.3 9.45l-7.72 7.72c-.78.78-.78 2.05 0 2.83L4 21.41c.39.39.9.59 1.41.59.51 0 1.02-.2 1.41-.59l7.78-7.78 2.81-2.81c.8-.78.8-2.07 0-2.86zM5.41 20L4 18.59l7.72-7.72 1.47 1.35L5.41 20z\"/>\n",
              "  </svg>\n",
              "      </button>\n",
              "      \n",
              "  <style>\n",
              "    .colab-df-container {\n",
              "      display:flex;\n",
              "      flex-wrap:wrap;\n",
              "      gap: 12px;\n",
              "    }\n",
              "\n",
              "    .colab-df-convert {\n",
              "      background-color: #E8F0FE;\n",
              "      border: none;\n",
              "      border-radius: 50%;\n",
              "      cursor: pointer;\n",
              "      display: none;\n",
              "      fill: #1967D2;\n",
              "      height: 32px;\n",
              "      padding: 0 0 0 0;\n",
              "      width: 32px;\n",
              "    }\n",
              "\n",
              "    .colab-df-convert:hover {\n",
              "      background-color: #E2EBFA;\n",
              "      box-shadow: 0px 1px 2px rgba(60, 64, 67, 0.3), 0px 1px 3px 1px rgba(60, 64, 67, 0.15);\n",
              "      fill: #174EA6;\n",
              "    }\n",
              "\n",
              "    [theme=dark] .colab-df-convert {\n",
              "      background-color: #3B4455;\n",
              "      fill: #D2E3FC;\n",
              "    }\n",
              "\n",
              "    [theme=dark] .colab-df-convert:hover {\n",
              "      background-color: #434B5C;\n",
              "      box-shadow: 0px 1px 3px 1px rgba(0, 0, 0, 0.15);\n",
              "      filter: drop-shadow(0px 1px 2px rgba(0, 0, 0, 0.3));\n",
              "      fill: #FFFFFF;\n",
              "    }\n",
              "  </style>\n",
              "\n",
              "      <script>\n",
              "        const buttonEl =\n",
              "          document.querySelector('#df-54d77696-7e35-497b-8b95-f8e6077c0bba button.colab-df-convert');\n",
              "        buttonEl.style.display =\n",
              "          google.colab.kernel.accessAllowed ? 'block' : 'none';\n",
              "\n",
              "        async function convertToInteractive(key) {\n",
              "          const element = document.querySelector('#df-54d77696-7e35-497b-8b95-f8e6077c0bba');\n",
              "          const dataTable =\n",
              "            await google.colab.kernel.invokeFunction('convertToInteractive',\n",
              "                                                     [key], {});\n",
              "          if (!dataTable) return;\n",
              "\n",
              "          const docLinkHtml = 'Like what you see? Visit the ' +\n",
              "            '<a target=\"_blank\" href=https://colab.research.google.com/notebooks/data_table.ipynb>data table notebook</a>'\n",
              "            + ' to learn more about interactive tables.';\n",
              "          element.innerHTML = '';\n",
              "          dataTable['output_type'] = 'display_data';\n",
              "          await google.colab.output.renderOutput(dataTable, element);\n",
              "          const docLink = document.createElement('div');\n",
              "          docLink.innerHTML = docLinkHtml;\n",
              "          element.appendChild(docLink);\n",
              "        }\n",
              "      </script>\n",
              "    </div>\n",
              "  </div>\n",
              "  "
            ]
          },
          "metadata": {},
          "execution_count": 1332
        }
      ]
    },
    {
      "cell_type": "code",
      "source": [
        "encodedHateDF.rename(columns = {0: \"Faggot\"}, inplace = True)"
      ],
      "metadata": {
        "id": "0wCdo-Thgsp2"
      },
      "execution_count": 1333,
      "outputs": []
    },
    {
      "cell_type": "code",
      "source": [
        "#encodedHateDF[\"Bitch\"] = bitch"
      ],
      "metadata": {
        "id": "yp_YJAiWhP6M"
      },
      "execution_count": 1334,
      "outputs": []
    },
    {
      "cell_type": "code",
      "source": [
        "#encodedHateDF[\"Fuck\"] = fuck"
      ],
      "metadata": {
        "id": "_BHIUXrGhouD"
      },
      "execution_count": 1335,
      "outputs": []
    },
    {
      "cell_type": "code",
      "source": [
        "#encodedHateDF[\"Nigga\"] = nigga"
      ],
      "metadata": {
        "id": "q-SeHGa_hz5C"
      },
      "execution_count": 1336,
      "outputs": []
    },
    {
      "cell_type": "code",
      "source": [
        "#encodedHateDF[\"Ass\"] = ass"
      ],
      "metadata": {
        "id": "Rc80f9DMh0rp"
      },
      "execution_count": 1337,
      "outputs": []
    },
    {
      "cell_type": "code",
      "source": [
        "encodedHateDF[\"Fag\"] = fag"
      ],
      "metadata": {
        "id": "78b2W5rMh0uM"
      },
      "execution_count": 1338,
      "outputs": []
    },
    {
      "cell_type": "code",
      "source": [
        "#encodedHateDF[\"Niggas\"] = niggas"
      ],
      "metadata": {
        "id": "cII1eY_-h0wy"
      },
      "execution_count": 1339,
      "outputs": []
    },
    {
      "cell_type": "code",
      "source": [
        "encodedHateDF[\"Fucking\"] = fucking"
      ],
      "metadata": {
        "id": "EKST9Ws6h013"
      },
      "execution_count": 1340,
      "outputs": []
    },
    {
      "cell_type": "code",
      "source": [
        "encodedHateDF[\"Faggots\"] = faggots"
      ],
      "metadata": {
        "id": "D-ErI3Vhh04x"
      },
      "execution_count": 1341,
      "outputs": []
    },
    {
      "cell_type": "code",
      "source": [
        "encodedHateDF[\"White\"] = white"
      ],
      "metadata": {
        "id": "lnq5bpDSvthz"
      },
      "execution_count": 1342,
      "outputs": []
    },
    {
      "cell_type": "code",
      "source": [
        "encodedHateDF[\"Trash\"] = trash"
      ],
      "metadata": {
        "id": "wqLc8YV7wi-8"
      },
      "execution_count": 1343,
      "outputs": []
    },
    {
      "cell_type": "code",
      "source": [
        "encodedHateDF[\"Love\"] = love"
      ],
      "metadata": {
        "id": "prMlgq13xKUs"
      },
      "execution_count": 1344,
      "outputs": []
    },
    {
      "cell_type": "code",
      "source": [
        "encodedHateDF[\"Real\"] = real"
      ],
      "metadata": {
        "id": "Y3ToqYNjyOGd"
      },
      "execution_count": 1345,
      "outputs": []
    },
    {
      "cell_type": "code",
      "source": [
        "encodedHateDF[\"Good\"] = good"
      ],
      "metadata": {
        "id": "iTKZ7ZdiyOIX"
      },
      "execution_count": 1346,
      "outputs": []
    },
    {
      "cell_type": "code",
      "source": [
        "encodedHateDF[\"Black\"] = black"
      ],
      "metadata": {
        "id": "uwnarSoHyfZE"
      },
      "execution_count": 1347,
      "outputs": []
    },
    {
      "cell_type": "code",
      "source": [
        ""
      ],
      "metadata": {
        "id": "tki7f0VQh08_"
      },
      "execution_count": 1347,
      "outputs": []
    },
    {
      "cell_type": "code",
      "source": [
        "encodedHateDF"
      ],
      "metadata": {
        "id": "4-Cq-Dj7h0_s",
        "outputId": "d69760ea-6c62-4bc2-9f3f-6be79667598c",
        "colab": {
          "base_uri": "https://localhost:8080/",
          "height": 424
        }
      },
      "execution_count": 1348,
      "outputs": [
        {
          "output_type": "execute_result",
          "data": {
            "text/plain": [
              "       Faggot  Fag  Fucking  Faggots  White  Trash  Love  Real  Good  Black\n",
              "0           0    0        0        0      0      1     0     0     0      0\n",
              "1           0    0        0        0      0      0     0     0     0      0\n",
              "2           0    0        0        0      0      0     0     0     0      0\n",
              "3           0    0        0        0      0      0     0     0     0      0\n",
              "4           0    0        0        0      0      0     0     0     0      0\n",
              "...       ...  ...      ...      ...    ...    ...   ...   ...   ...    ...\n",
              "24778       0    0        0        0      0      1     0     0     0      0\n",
              "24779       0    0        0        0      0      0     0     0     0      0\n",
              "24780       0    0        0        0      0      0     0     0     0      0\n",
              "24781       0    0        0        0      0      0     0     0     0      0\n",
              "24782       0    0        0        0      0      0     0     0     0      0\n",
              "\n",
              "[24783 rows x 10 columns]"
            ],
            "text/html": [
              "\n",
              "  <div id=\"df-7b1b46d2-5d0f-4578-8cf4-4be740e3cf37\">\n",
              "    <div class=\"colab-df-container\">\n",
              "      <div>\n",
              "<style scoped>\n",
              "    .dataframe tbody tr th:only-of-type {\n",
              "        vertical-align: middle;\n",
              "    }\n",
              "\n",
              "    .dataframe tbody tr th {\n",
              "        vertical-align: top;\n",
              "    }\n",
              "\n",
              "    .dataframe thead th {\n",
              "        text-align: right;\n",
              "    }\n",
              "</style>\n",
              "<table border=\"1\" class=\"dataframe\">\n",
              "  <thead>\n",
              "    <tr style=\"text-align: right;\">\n",
              "      <th></th>\n",
              "      <th>Faggot</th>\n",
              "      <th>Fag</th>\n",
              "      <th>Fucking</th>\n",
              "      <th>Faggots</th>\n",
              "      <th>White</th>\n",
              "      <th>Trash</th>\n",
              "      <th>Love</th>\n",
              "      <th>Real</th>\n",
              "      <th>Good</th>\n",
              "      <th>Black</th>\n",
              "    </tr>\n",
              "  </thead>\n",
              "  <tbody>\n",
              "    <tr>\n",
              "      <th>0</th>\n",
              "      <td>0</td>\n",
              "      <td>0</td>\n",
              "      <td>0</td>\n",
              "      <td>0</td>\n",
              "      <td>0</td>\n",
              "      <td>1</td>\n",
              "      <td>0</td>\n",
              "      <td>0</td>\n",
              "      <td>0</td>\n",
              "      <td>0</td>\n",
              "    </tr>\n",
              "    <tr>\n",
              "      <th>1</th>\n",
              "      <td>0</td>\n",
              "      <td>0</td>\n",
              "      <td>0</td>\n",
              "      <td>0</td>\n",
              "      <td>0</td>\n",
              "      <td>0</td>\n",
              "      <td>0</td>\n",
              "      <td>0</td>\n",
              "      <td>0</td>\n",
              "      <td>0</td>\n",
              "    </tr>\n",
              "    <tr>\n",
              "      <th>2</th>\n",
              "      <td>0</td>\n",
              "      <td>0</td>\n",
              "      <td>0</td>\n",
              "      <td>0</td>\n",
              "      <td>0</td>\n",
              "      <td>0</td>\n",
              "      <td>0</td>\n",
              "      <td>0</td>\n",
              "      <td>0</td>\n",
              "      <td>0</td>\n",
              "    </tr>\n",
              "    <tr>\n",
              "      <th>3</th>\n",
              "      <td>0</td>\n",
              "      <td>0</td>\n",
              "      <td>0</td>\n",
              "      <td>0</td>\n",
              "      <td>0</td>\n",
              "      <td>0</td>\n",
              "      <td>0</td>\n",
              "      <td>0</td>\n",
              "      <td>0</td>\n",
              "      <td>0</td>\n",
              "    </tr>\n",
              "    <tr>\n",
              "      <th>4</th>\n",
              "      <td>0</td>\n",
              "      <td>0</td>\n",
              "      <td>0</td>\n",
              "      <td>0</td>\n",
              "      <td>0</td>\n",
              "      <td>0</td>\n",
              "      <td>0</td>\n",
              "      <td>0</td>\n",
              "      <td>0</td>\n",
              "      <td>0</td>\n",
              "    </tr>\n",
              "    <tr>\n",
              "      <th>...</th>\n",
              "      <td>...</td>\n",
              "      <td>...</td>\n",
              "      <td>...</td>\n",
              "      <td>...</td>\n",
              "      <td>...</td>\n",
              "      <td>...</td>\n",
              "      <td>...</td>\n",
              "      <td>...</td>\n",
              "      <td>...</td>\n",
              "      <td>...</td>\n",
              "    </tr>\n",
              "    <tr>\n",
              "      <th>24778</th>\n",
              "      <td>0</td>\n",
              "      <td>0</td>\n",
              "      <td>0</td>\n",
              "      <td>0</td>\n",
              "      <td>0</td>\n",
              "      <td>1</td>\n",
              "      <td>0</td>\n",
              "      <td>0</td>\n",
              "      <td>0</td>\n",
              "      <td>0</td>\n",
              "    </tr>\n",
              "    <tr>\n",
              "      <th>24779</th>\n",
              "      <td>0</td>\n",
              "      <td>0</td>\n",
              "      <td>0</td>\n",
              "      <td>0</td>\n",
              "      <td>0</td>\n",
              "      <td>0</td>\n",
              "      <td>0</td>\n",
              "      <td>0</td>\n",
              "      <td>0</td>\n",
              "      <td>0</td>\n",
              "    </tr>\n",
              "    <tr>\n",
              "      <th>24780</th>\n",
              "      <td>0</td>\n",
              "      <td>0</td>\n",
              "      <td>0</td>\n",
              "      <td>0</td>\n",
              "      <td>0</td>\n",
              "      <td>0</td>\n",
              "      <td>0</td>\n",
              "      <td>0</td>\n",
              "      <td>0</td>\n",
              "      <td>0</td>\n",
              "    </tr>\n",
              "    <tr>\n",
              "      <th>24781</th>\n",
              "      <td>0</td>\n",
              "      <td>0</td>\n",
              "      <td>0</td>\n",
              "      <td>0</td>\n",
              "      <td>0</td>\n",
              "      <td>0</td>\n",
              "      <td>0</td>\n",
              "      <td>0</td>\n",
              "      <td>0</td>\n",
              "      <td>0</td>\n",
              "    </tr>\n",
              "    <tr>\n",
              "      <th>24782</th>\n",
              "      <td>0</td>\n",
              "      <td>0</td>\n",
              "      <td>0</td>\n",
              "      <td>0</td>\n",
              "      <td>0</td>\n",
              "      <td>0</td>\n",
              "      <td>0</td>\n",
              "      <td>0</td>\n",
              "      <td>0</td>\n",
              "      <td>0</td>\n",
              "    </tr>\n",
              "  </tbody>\n",
              "</table>\n",
              "<p>24783 rows × 10 columns</p>\n",
              "</div>\n",
              "      <button class=\"colab-df-convert\" onclick=\"convertToInteractive('df-7b1b46d2-5d0f-4578-8cf4-4be740e3cf37')\"\n",
              "              title=\"Convert this dataframe to an interactive table.\"\n",
              "              style=\"display:none;\">\n",
              "        \n",
              "  <svg xmlns=\"http://www.w3.org/2000/svg\" height=\"24px\"viewBox=\"0 0 24 24\"\n",
              "       width=\"24px\">\n",
              "    <path d=\"M0 0h24v24H0V0z\" fill=\"none\"/>\n",
              "    <path d=\"M18.56 5.44l.94 2.06.94-2.06 2.06-.94-2.06-.94-.94-2.06-.94 2.06-2.06.94zm-11 1L8.5 8.5l.94-2.06 2.06-.94-2.06-.94L8.5 2.5l-.94 2.06-2.06.94zm10 10l.94 2.06.94-2.06 2.06-.94-2.06-.94-.94-2.06-.94 2.06-2.06.94z\"/><path d=\"M17.41 7.96l-1.37-1.37c-.4-.4-.92-.59-1.43-.59-.52 0-1.04.2-1.43.59L10.3 9.45l-7.72 7.72c-.78.78-.78 2.05 0 2.83L4 21.41c.39.39.9.59 1.41.59.51 0 1.02-.2 1.41-.59l7.78-7.78 2.81-2.81c.8-.78.8-2.07 0-2.86zM5.41 20L4 18.59l7.72-7.72 1.47 1.35L5.41 20z\"/>\n",
              "  </svg>\n",
              "      </button>\n",
              "      \n",
              "  <style>\n",
              "    .colab-df-container {\n",
              "      display:flex;\n",
              "      flex-wrap:wrap;\n",
              "      gap: 12px;\n",
              "    }\n",
              "\n",
              "    .colab-df-convert {\n",
              "      background-color: #E8F0FE;\n",
              "      border: none;\n",
              "      border-radius: 50%;\n",
              "      cursor: pointer;\n",
              "      display: none;\n",
              "      fill: #1967D2;\n",
              "      height: 32px;\n",
              "      padding: 0 0 0 0;\n",
              "      width: 32px;\n",
              "    }\n",
              "\n",
              "    .colab-df-convert:hover {\n",
              "      background-color: #E2EBFA;\n",
              "      box-shadow: 0px 1px 2px rgba(60, 64, 67, 0.3), 0px 1px 3px 1px rgba(60, 64, 67, 0.15);\n",
              "      fill: #174EA6;\n",
              "    }\n",
              "\n",
              "    [theme=dark] .colab-df-convert {\n",
              "      background-color: #3B4455;\n",
              "      fill: #D2E3FC;\n",
              "    }\n",
              "\n",
              "    [theme=dark] .colab-df-convert:hover {\n",
              "      background-color: #434B5C;\n",
              "      box-shadow: 0px 1px 3px 1px rgba(0, 0, 0, 0.15);\n",
              "      filter: drop-shadow(0px 1px 2px rgba(0, 0, 0, 0.3));\n",
              "      fill: #FFFFFF;\n",
              "    }\n",
              "  </style>\n",
              "\n",
              "      <script>\n",
              "        const buttonEl =\n",
              "          document.querySelector('#df-7b1b46d2-5d0f-4578-8cf4-4be740e3cf37 button.colab-df-convert');\n",
              "        buttonEl.style.display =\n",
              "          google.colab.kernel.accessAllowed ? 'block' : 'none';\n",
              "\n",
              "        async function convertToInteractive(key) {\n",
              "          const element = document.querySelector('#df-7b1b46d2-5d0f-4578-8cf4-4be740e3cf37');\n",
              "          const dataTable =\n",
              "            await google.colab.kernel.invokeFunction('convertToInteractive',\n",
              "                                                     [key], {});\n",
              "          if (!dataTable) return;\n",
              "\n",
              "          const docLinkHtml = 'Like what you see? Visit the ' +\n",
              "            '<a target=\"_blank\" href=https://colab.research.google.com/notebooks/data_table.ipynb>data table notebook</a>'\n",
              "            + ' to learn more about interactive tables.';\n",
              "          element.innerHTML = '';\n",
              "          dataTable['output_type'] = 'display_data';\n",
              "          await google.colab.output.renderOutput(dataTable, element);\n",
              "          const docLink = document.createElement('div');\n",
              "          docLink.innerHTML = docLinkHtml;\n",
              "          element.appendChild(docLink);\n",
              "        }\n",
              "      </script>\n",
              "    </div>\n",
              "  </div>\n",
              "  "
            ]
          },
          "metadata": {},
          "execution_count": 1348
        }
      ]
    },
    {
      "cell_type": "code",
      "source": [
        "wordDF = pd.merge(encodedDf, encodedHateDF, left_index=True, right_index=True)"
      ],
      "metadata": {
        "id": "T8a3X3x8jNxh"
      },
      "execution_count": 1349,
      "outputs": []
    },
    {
      "cell_type": "code",
      "source": [
        "wordDF.head()"
      ],
      "metadata": {
        "id": "gDmJKSXavfVK",
        "outputId": "c08c35e6-75f5-476c-ec1a-ebfb16692609",
        "colab": {
          "base_uri": "https://localhost:8080/",
          "height": 236
        }
      },
      "execution_count": 1350,
      "outputs": [
        {
          "output_type": "execute_result",
          "data": {
            "text/plain": [
              "   Bitch  Bitches  Hoes  Pussy  Hoe  Fuck  Ass  Nigga  Shit  Niggas  ...  \\\n",
              "0      0        0     0      0    0     0    0      0     0       0  ...   \n",
              "1      0        0     0      0    1     0    0      0     0       0  ...   \n",
              "2      1        0     0      0    0     1    0      0     1       0  ...   \n",
              "3      0        0     0      0    0     0    0      0     0       0  ...   \n",
              "4      1        0     0      0    0     0    0      0     1       0  ...   \n",
              "\n",
              "   Faggot  Fag  Fucking  Faggots  White  Trash  Love  Real  Good  Black  \n",
              "0       0    0        0        0      0      1     0     0     0      0  \n",
              "1       0    0        0        0      0      0     0     0     0      0  \n",
              "2       0    0        0        0      0      0     0     0     0      0  \n",
              "3       0    0        0        0      0      0     0     0     0      0  \n",
              "4       0    0        0        0      0      0     0     0     0      0  \n",
              "\n",
              "[5 rows x 21 columns]"
            ],
            "text/html": [
              "\n",
              "  <div id=\"df-fccd416d-e872-4052-aaa6-7bceb54d3dfd\">\n",
              "    <div class=\"colab-df-container\">\n",
              "      <div>\n",
              "<style scoped>\n",
              "    .dataframe tbody tr th:only-of-type {\n",
              "        vertical-align: middle;\n",
              "    }\n",
              "\n",
              "    .dataframe tbody tr th {\n",
              "        vertical-align: top;\n",
              "    }\n",
              "\n",
              "    .dataframe thead th {\n",
              "        text-align: right;\n",
              "    }\n",
              "</style>\n",
              "<table border=\"1\" class=\"dataframe\">\n",
              "  <thead>\n",
              "    <tr style=\"text-align: right;\">\n",
              "      <th></th>\n",
              "      <th>Bitch</th>\n",
              "      <th>Bitches</th>\n",
              "      <th>Hoes</th>\n",
              "      <th>Pussy</th>\n",
              "      <th>Hoe</th>\n",
              "      <th>Fuck</th>\n",
              "      <th>Ass</th>\n",
              "      <th>Nigga</th>\n",
              "      <th>Shit</th>\n",
              "      <th>Niggas</th>\n",
              "      <th>...</th>\n",
              "      <th>Faggot</th>\n",
              "      <th>Fag</th>\n",
              "      <th>Fucking</th>\n",
              "      <th>Faggots</th>\n",
              "      <th>White</th>\n",
              "      <th>Trash</th>\n",
              "      <th>Love</th>\n",
              "      <th>Real</th>\n",
              "      <th>Good</th>\n",
              "      <th>Black</th>\n",
              "    </tr>\n",
              "  </thead>\n",
              "  <tbody>\n",
              "    <tr>\n",
              "      <th>0</th>\n",
              "      <td>0</td>\n",
              "      <td>0</td>\n",
              "      <td>0</td>\n",
              "      <td>0</td>\n",
              "      <td>0</td>\n",
              "      <td>0</td>\n",
              "      <td>0</td>\n",
              "      <td>0</td>\n",
              "      <td>0</td>\n",
              "      <td>0</td>\n",
              "      <td>...</td>\n",
              "      <td>0</td>\n",
              "      <td>0</td>\n",
              "      <td>0</td>\n",
              "      <td>0</td>\n",
              "      <td>0</td>\n",
              "      <td>1</td>\n",
              "      <td>0</td>\n",
              "      <td>0</td>\n",
              "      <td>0</td>\n",
              "      <td>0</td>\n",
              "    </tr>\n",
              "    <tr>\n",
              "      <th>1</th>\n",
              "      <td>0</td>\n",
              "      <td>0</td>\n",
              "      <td>0</td>\n",
              "      <td>0</td>\n",
              "      <td>1</td>\n",
              "      <td>0</td>\n",
              "      <td>0</td>\n",
              "      <td>0</td>\n",
              "      <td>0</td>\n",
              "      <td>0</td>\n",
              "      <td>...</td>\n",
              "      <td>0</td>\n",
              "      <td>0</td>\n",
              "      <td>0</td>\n",
              "      <td>0</td>\n",
              "      <td>0</td>\n",
              "      <td>0</td>\n",
              "      <td>0</td>\n",
              "      <td>0</td>\n",
              "      <td>0</td>\n",
              "      <td>0</td>\n",
              "    </tr>\n",
              "    <tr>\n",
              "      <th>2</th>\n",
              "      <td>1</td>\n",
              "      <td>0</td>\n",
              "      <td>0</td>\n",
              "      <td>0</td>\n",
              "      <td>0</td>\n",
              "      <td>1</td>\n",
              "      <td>0</td>\n",
              "      <td>0</td>\n",
              "      <td>1</td>\n",
              "      <td>0</td>\n",
              "      <td>...</td>\n",
              "      <td>0</td>\n",
              "      <td>0</td>\n",
              "      <td>0</td>\n",
              "      <td>0</td>\n",
              "      <td>0</td>\n",
              "      <td>0</td>\n",
              "      <td>0</td>\n",
              "      <td>0</td>\n",
              "      <td>0</td>\n",
              "      <td>0</td>\n",
              "    </tr>\n",
              "    <tr>\n",
              "      <th>3</th>\n",
              "      <td>0</td>\n",
              "      <td>0</td>\n",
              "      <td>0</td>\n",
              "      <td>0</td>\n",
              "      <td>0</td>\n",
              "      <td>0</td>\n",
              "      <td>0</td>\n",
              "      <td>0</td>\n",
              "      <td>0</td>\n",
              "      <td>0</td>\n",
              "      <td>...</td>\n",
              "      <td>0</td>\n",
              "      <td>0</td>\n",
              "      <td>0</td>\n",
              "      <td>0</td>\n",
              "      <td>0</td>\n",
              "      <td>0</td>\n",
              "      <td>0</td>\n",
              "      <td>0</td>\n",
              "      <td>0</td>\n",
              "      <td>0</td>\n",
              "    </tr>\n",
              "    <tr>\n",
              "      <th>4</th>\n",
              "      <td>1</td>\n",
              "      <td>0</td>\n",
              "      <td>0</td>\n",
              "      <td>0</td>\n",
              "      <td>0</td>\n",
              "      <td>0</td>\n",
              "      <td>0</td>\n",
              "      <td>0</td>\n",
              "      <td>1</td>\n",
              "      <td>0</td>\n",
              "      <td>...</td>\n",
              "      <td>0</td>\n",
              "      <td>0</td>\n",
              "      <td>0</td>\n",
              "      <td>0</td>\n",
              "      <td>0</td>\n",
              "      <td>0</td>\n",
              "      <td>0</td>\n",
              "      <td>0</td>\n",
              "      <td>0</td>\n",
              "      <td>0</td>\n",
              "    </tr>\n",
              "  </tbody>\n",
              "</table>\n",
              "<p>5 rows × 21 columns</p>\n",
              "</div>\n",
              "      <button class=\"colab-df-convert\" onclick=\"convertToInteractive('df-fccd416d-e872-4052-aaa6-7bceb54d3dfd')\"\n",
              "              title=\"Convert this dataframe to an interactive table.\"\n",
              "              style=\"display:none;\">\n",
              "        \n",
              "  <svg xmlns=\"http://www.w3.org/2000/svg\" height=\"24px\"viewBox=\"0 0 24 24\"\n",
              "       width=\"24px\">\n",
              "    <path d=\"M0 0h24v24H0V0z\" fill=\"none\"/>\n",
              "    <path d=\"M18.56 5.44l.94 2.06.94-2.06 2.06-.94-2.06-.94-.94-2.06-.94 2.06-2.06.94zm-11 1L8.5 8.5l.94-2.06 2.06-.94-2.06-.94L8.5 2.5l-.94 2.06-2.06.94zm10 10l.94 2.06.94-2.06 2.06-.94-2.06-.94-.94-2.06-.94 2.06-2.06.94z\"/><path d=\"M17.41 7.96l-1.37-1.37c-.4-.4-.92-.59-1.43-.59-.52 0-1.04.2-1.43.59L10.3 9.45l-7.72 7.72c-.78.78-.78 2.05 0 2.83L4 21.41c.39.39.9.59 1.41.59.51 0 1.02-.2 1.41-.59l7.78-7.78 2.81-2.81c.8-.78.8-2.07 0-2.86zM5.41 20L4 18.59l7.72-7.72 1.47 1.35L5.41 20z\"/>\n",
              "  </svg>\n",
              "      </button>\n",
              "      \n",
              "  <style>\n",
              "    .colab-df-container {\n",
              "      display:flex;\n",
              "      flex-wrap:wrap;\n",
              "      gap: 12px;\n",
              "    }\n",
              "\n",
              "    .colab-df-convert {\n",
              "      background-color: #E8F0FE;\n",
              "      border: none;\n",
              "      border-radius: 50%;\n",
              "      cursor: pointer;\n",
              "      display: none;\n",
              "      fill: #1967D2;\n",
              "      height: 32px;\n",
              "      padding: 0 0 0 0;\n",
              "      width: 32px;\n",
              "    }\n",
              "\n",
              "    .colab-df-convert:hover {\n",
              "      background-color: #E2EBFA;\n",
              "      box-shadow: 0px 1px 2px rgba(60, 64, 67, 0.3), 0px 1px 3px 1px rgba(60, 64, 67, 0.15);\n",
              "      fill: #174EA6;\n",
              "    }\n",
              "\n",
              "    [theme=dark] .colab-df-convert {\n",
              "      background-color: #3B4455;\n",
              "      fill: #D2E3FC;\n",
              "    }\n",
              "\n",
              "    [theme=dark] .colab-df-convert:hover {\n",
              "      background-color: #434B5C;\n",
              "      box-shadow: 0px 1px 3px 1px rgba(0, 0, 0, 0.15);\n",
              "      filter: drop-shadow(0px 1px 2px rgba(0, 0, 0, 0.3));\n",
              "      fill: #FFFFFF;\n",
              "    }\n",
              "  </style>\n",
              "\n",
              "      <script>\n",
              "        const buttonEl =\n",
              "          document.querySelector('#df-fccd416d-e872-4052-aaa6-7bceb54d3dfd button.colab-df-convert');\n",
              "        buttonEl.style.display =\n",
              "          google.colab.kernel.accessAllowed ? 'block' : 'none';\n",
              "\n",
              "        async function convertToInteractive(key) {\n",
              "          const element = document.querySelector('#df-fccd416d-e872-4052-aaa6-7bceb54d3dfd');\n",
              "          const dataTable =\n",
              "            await google.colab.kernel.invokeFunction('convertToInteractive',\n",
              "                                                     [key], {});\n",
              "          if (!dataTable) return;\n",
              "\n",
              "          const docLinkHtml = 'Like what you see? Visit the ' +\n",
              "            '<a target=\"_blank\" href=https://colab.research.google.com/notebooks/data_table.ipynb>data table notebook</a>'\n",
              "            + ' to learn more about interactive tables.';\n",
              "          element.innerHTML = '';\n",
              "          dataTable['output_type'] = 'display_data';\n",
              "          await google.colab.output.renderOutput(dataTable, element);\n",
              "          const docLink = document.createElement('div');\n",
              "          docLink.innerHTML = docLinkHtml;\n",
              "          element.appendChild(docLink);\n",
              "        }\n",
              "      </script>\n",
              "    </div>\n",
              "  </div>\n",
              "  "
            ]
          },
          "metadata": {},
          "execution_count": 1350
        }
      ]
    },
    {
      "cell_type": "code",
      "source": [
        "target = classdf[\"class\"]"
      ],
      "metadata": {
        "id": "FciNShAtldOp"
      },
      "execution_count": 1351,
      "outputs": []
    },
    {
      "cell_type": "code",
      "source": [
        "sm = SMOTE()\n",
        "X,Y = sm.fit_resample(wordDF,target)"
      ],
      "metadata": {
        "id": "54ttUZ1TlpJn"
      },
      "execution_count": 1352,
      "outputs": []
    },
    {
      "cell_type": "code",
      "source": [
        "x_train,x_test,x_target_train,x_target_test = train_test_split(X,Y,test_size=0.2,shuffle=True,random_state=0)"
      ],
      "metadata": {
        "id": "m4hUTQ6JmpeL"
      },
      "execution_count": 1353,
      "outputs": []
    },
    {
      "cell_type": "code",
      "source": [
        "#rfc=RandomForestClassifier(n_estimators= 250, max_depth=100)\n",
        "#dtc=DecisionTreeClassifier()\n",
        "#lr=LogisticRegression(max_iter=600)\n",
        "#knnc=KNeighborsClassifier()\n",
        "#svc=SVC()\n",
        "#nb=GaussianNB()"
      ],
      "metadata": {
        "id": "BWWYHJUnm-vu"
      },
      "execution_count": 1354,
      "outputs": []
    },
    {
      "cell_type": "code",
      "source": [
        "#models = [(\"rfc\",rfc),(\"dtc\",dtc),(\"lr\",lr),(\"knnc\",knnc),(\"svc\",svc),(\"nb\",nb)]"
      ],
      "metadata": {
        "id": "9-nRxNaTnYGH"
      },
      "execution_count": 1355,
      "outputs": []
    },
    {
      "cell_type": "code",
      "source": [
        "#voting = VotingClassifier(models)"
      ],
      "metadata": {
        "id": "w2X28bLmnFe8"
      },
      "execution_count": 1356,
      "outputs": []
    },
    {
      "cell_type": "code",
      "source": [
        "#voting.fit(x_train,x_target_train)"
      ],
      "metadata": {
        "id": "gQiINMRhnJMT"
      },
      "execution_count": 1357,
      "outputs": []
    },
    {
      "cell_type": "code",
      "source": [
        "#x_pred = voting.predict(x_test)"
      ],
      "metadata": {
        "id": "MRlXAHCxn-Jh"
      },
      "execution_count": 1358,
      "outputs": []
    },
    {
      "cell_type": "code",
      "source": [
        "#accuracy_score(x_target_test,x_pred)"
      ],
      "metadata": {
        "id": "GnbkekwEoATJ"
      },
      "execution_count": 1359,
      "outputs": []
    },
    {
      "cell_type": "code",
      "source": [
        "model = xgb.XGBClassifier()\n",
        "model.fit(x_train,x_target_train)"
      ],
      "metadata": {
        "colab": {
          "base_uri": "https://localhost:8080/"
        },
        "id": "agE8_IXDoUfM",
        "outputId": "44f25349-d813-4f40-a6e3-5ea00f16c3ef"
      },
      "execution_count": 1360,
      "outputs": [
        {
          "output_type": "execute_result",
          "data": {
            "text/plain": [
              "XGBClassifier(objective='multi:softprob')"
            ]
          },
          "metadata": {},
          "execution_count": 1360
        }
      ]
    },
    {
      "cell_type": "code",
      "source": [
        "x_pred = model.predict(x_test)"
      ],
      "metadata": {
        "id": "8Y6VqUgfpuxN"
      },
      "execution_count": 1361,
      "outputs": []
    },
    {
      "cell_type": "code",
      "source": [
        "accuracy_score(x_target_test,x_pred)"
      ],
      "metadata": {
        "colab": {
          "base_uri": "https://localhost:8080/"
        },
        "id": "Gr4xNZoBpza0",
        "outputId": "d1ce6afe-d30a-4936-fdba-aa2e417e95ec"
      },
      "execution_count": 1362,
      "outputs": [
        {
          "output_type": "execute_result",
          "data": {
            "text/plain": [
              "0.6961959353830119"
            ]
          },
          "metadata": {},
          "execution_count": 1362
        }
      ]
    },
    {
      "cell_type": "code",
      "source": [
        "model = gbm.LGBMClassifier()"
      ],
      "metadata": {
        "id": "m-C4RORRvLCI"
      },
      "execution_count": 1363,
      "outputs": []
    },
    {
      "cell_type": "code",
      "source": [
        "model.fit(x_train,x_target_train)"
      ],
      "metadata": {
        "id": "klCHqx6wvVCp",
        "outputId": "93f97f3b-9e8c-402f-a511-7a9651a6979f",
        "colab": {
          "base_uri": "https://localhost:8080/"
        }
      },
      "execution_count": 1364,
      "outputs": [
        {
          "output_type": "execute_result",
          "data": {
            "text/plain": [
              "LGBMClassifier()"
            ]
          },
          "metadata": {},
          "execution_count": 1364
        }
      ]
    },
    {
      "cell_type": "code",
      "source": [
        "x_pred = model.predict(x_test)"
      ],
      "metadata": {
        "id": "kVgSmEDZvX_O"
      },
      "execution_count": 1365,
      "outputs": []
    },
    {
      "cell_type": "code",
      "source": [
        "accuracy_score(x_target_test,x_pred)"
      ],
      "metadata": {
        "id": "vLbhV_p2vY4s",
        "outputId": "74a62ff5-a6eb-4c07-fb95-6914c85b873a",
        "colab": {
          "base_uri": "https://localhost:8080/"
        }
      },
      "execution_count": 1366,
      "outputs": [
        {
          "output_type": "execute_result",
          "data": {
            "text/plain": [
              "0.7023623414973076"
            ]
          },
          "metadata": {},
          "execution_count": 1366
        }
      ]
    }
  ]
}